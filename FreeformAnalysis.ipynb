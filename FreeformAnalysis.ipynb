{
 "cells": [
  {
   "cell_type": "markdown",
   "metadata": {},
   "source": [
    "## Freeform is a file to facilitate a worspace to answer any research question"
   ]
  },
  {
   "cell_type": "code",
   "execution_count": 1,
   "metadata": {},
   "outputs": [],
   "source": [
    "import yfinance as yf\n",
    "import pandas as pd\n",
    "import seaborn as sns\n",
    "import matplotlib as plt\n",
    "import warnings\n",
    "from datetime import datetime\n",
    "import plotly.express as px\n",
    "\n",
    "\n",
    "# Ignore specific FutureWarnings\n",
    "warnings.filterwarnings(\"ignore\", category=FutureWarning, module=\"yfinance\")\n",
    "warnings.filterwarnings(\"ignore\", category=FutureWarning, module=\"pandas\")\n"
   ]
  },
  {
   "cell_type": "markdown",
   "metadata": {},
   "source": [
    "#### Questions answered\n",
    "##### Whats the correlation between the closes of coins offered on Binance.US USDT trading pairs and Bitcoin since the bull market of 2019\n",
    "\n",
    "##### Whats the correltion between the close of cryptocurrrencies offered on Binance.US USDT trading pairs since Bitcoins 2019 bull run cycle to its low\n",
    "\n",
    "##### Whats the correlation between the close of cryptocurrrencies offered on Binance.US USDT trading pairs since Bitcoins 2022 consolidation cycle to its breakout\n",
    "\n",
    "##### Whats the correltion between the close of cryptocurrrencies offered on Binance.US USDT trading pairs since Bitcoins 2023 consolidation cycle breakput to today\n",
    "\n",
    "##### What insights do ML techniques provide"
   ]
  },
  {
   "cell_type": "code",
   "execution_count": 2,
   "metadata": {},
   "outputs": [
    {
     "name": "stdout",
     "output_type": "stream",
     "text": [
      "yfinance.Ticker object <BTC-USD>\n"
     ]
    }
   ],
   "source": [
    "BTCUSD = yf.Ticker('BTC-USD')\n",
    "print(BTCUSD)"
   ]
  },
  {
   "cell_type": "code",
   "execution_count": 3,
   "metadata": {},
   "outputs": [
    {
     "data": {
      "text/html": [
       "<div>\n",
       "<style scoped>\n",
       "    .dataframe tbody tr th:only-of-type {\n",
       "        vertical-align: middle;\n",
       "    }\n",
       "\n",
       "    .dataframe tbody tr th {\n",
       "        vertical-align: top;\n",
       "    }\n",
       "\n",
       "    .dataframe thead th {\n",
       "        text-align: right;\n",
       "    }\n",
       "</style>\n",
       "<table border=\"1\" class=\"dataframe\">\n",
       "  <thead>\n",
       "    <tr style=\"text-align: right;\">\n",
       "      <th></th>\n",
       "      <th>btc_high</th>\n",
       "      <th>btc_low</th>\n",
       "      <th>btc_close</th>\n",
       "    </tr>\n",
       "    <tr>\n",
       "      <th>Date</th>\n",
       "      <th></th>\n",
       "      <th></th>\n",
       "      <th></th>\n",
       "    </tr>\n",
       "  </thead>\n",
       "  <tbody>\n",
       "    <tr>\n",
       "      <th>2019-09-30</th>\n",
       "      <td>8497.69</td>\n",
       "      <td>7830.76</td>\n",
       "      <td>7988.16</td>\n",
       "    </tr>\n",
       "    <tr>\n",
       "      <th>2019-10-07</th>\n",
       "      <td>8721.78</td>\n",
       "      <td>7905.77</td>\n",
       "      <td>8321.01</td>\n",
       "    </tr>\n",
       "    <tr>\n",
       "      <th>2019-10-14</th>\n",
       "      <td>8410.71</td>\n",
       "      <td>7902.16</td>\n",
       "      <td>8222.08</td>\n",
       "    </tr>\n",
       "    <tr>\n",
       "      <th>2019-10-21</th>\n",
       "      <td>10021.74</td>\n",
       "      <td>7446.99</td>\n",
       "      <td>9551.71</td>\n",
       "    </tr>\n",
       "    <tr>\n",
       "      <th>2019-10-28</th>\n",
       "      <td>9805.12</td>\n",
       "      <td>9028.72</td>\n",
       "      <td>9235.35</td>\n",
       "    </tr>\n",
       "  </tbody>\n",
       "</table>\n",
       "</div>"
      ],
      "text/plain": [
       "            btc_high  btc_low  btc_close\n",
       "Date                                    \n",
       "2019-09-30   8497.69  7830.76    7988.16\n",
       "2019-10-07   8721.78  7905.77    8321.01\n",
       "2019-10-14   8410.71  7902.16    8222.08\n",
       "2019-10-21  10021.74  7446.99    9551.71\n",
       "2019-10-28   9805.12  9028.72    9235.35"
      ]
     },
     "execution_count": 3,
     "metadata": {},
     "output_type": "execute_result"
    }
   ],
   "source": [
    "BTChist = BTCUSD.history(start = '2019-09-30', end = datetime.now(), interval = '1wk') #period = '1w'\n",
    "BTC_df = pd.DataFrame(BTChist[['High', 'Low', 'Close']]).round(2)\n",
    "BTC_df = BTC_df.rename(columns = {'High': 'btc_high', 'Low' : 'btc_low', 'Close' : 'btc_close'})\n",
    "BTC_df.head()"
   ]
  },
  {
   "cell_type": "code",
   "execution_count": 4,
   "metadata": {},
   "outputs": [],
   "source": [
    "#USDT converted to USD for yfinance\n",
    "binanceUS_cryptoUSDT_pairs = [#\"BTC-USD\",\n",
    "\"ETH-USD\",\"USDT-USD\",\"BNB-USD\",\"SOL-USD\",\n",
    "\"XRP-USD\",\"USDC-USD\",\"ADA-USD\",\"AVAX-USD\",\n",
    "\"DOGE-USD\",\"LINK-USD\",\"DOT-USD\",\"MATIC-USD\",\n",
    "\"UNI-USD\",\"SHIB-USD\",\"ICP-USD\",\"BCH-USD\",\n",
    "\"LTC-USD\",\"DAI-USD\",\"IMX-USD\",\"ATOM-USD\",\n",
    "\"NEAR-USD\",\"FIL-USD\",\"ETC-USD\",\"HBAR-USD\",\n",
    "\"APT-USD\",\"OP-USD\",\"VET-USD\",\"XLM-USD\",\n",
    "\"LDO-USD\",\"RNDR-USD\",\"GRT-USD\",\"ARB-USD\",\n",
    "\"THETA-USD\",\"MKR-USD\",\"ALGO-USD\",\"EGLD-USD\",\n",
    "\"FLOW-USD\",\"AAVE-USD\",\"QNT-USD\",\"FTM-USD\",\n",
    "\"CHZ-USD\",\"SNX-USD\",\"SAND-USD\",\"APE-USD\",\n",
    "\"AXS-USD\",\"XTZ-USD\",\"MANA-USD\",\"NEO-USD\",\n",
    "\"GALA-USD\",\"EOS-USD\",\"ASTR-USD\",\"FET-USD\",\n",
    "\"KAVA-USD\",\"IOTA-USD\",\"ROSE-USD\",\"ENS-USD\",\n",
    "\"CRV-USD\",\"COMP-USD\",\"1INCH-USD\",\"ENJ-USD\",\n",
    "\"CELO-USD\",\"ZEC-USD\",\"SKL-USD\",\"ZIL-USD\",\n",
    "\"LPT-USD\",\"KSM-USD\",\"FLOKI-USD\",\"ILV-USD\",\n",
    "\"MASK-USD\",\"OCEAN-USD\",\"PAXG-USD\",\"BAT-USD\",\n",
    "\"LRC-USD\",\"COTI-USD\",\"TFUEL-USD\",\"DASH-USD\",\n",
    "\"VTHO-USD\",\"QTUM-USD\",\"SUSHI-USD\",\"API3-USD\",\n",
    "\"ANT-USD\",\"RVN-USD\",\"FLUX-USD\",\"GAL-USD\",\n",
    "\"KDA-USD\",\"ANKR-USD\",\"AUDIO-USD\",\"ONE-USD\",\n",
    "\"ZRX-USD\",\"BAND-USD\",\"T-USD\",\"STORJ-USD\",\n",
    "\"WAVES-USD\",\"YFI-USD\",\"CTSI-USD\",\"ICX-USD\",\n",
    "\"BICO-USD\",\"ONT-USD\",\"WAXP-USD\",\"PROM-USD\",\n",
    "\"DGB-USD\",\"CELR-USD\",\"NMR-USD\",\"ACH-USD\",\n",
    "\"CUDOS-USD\",\"SLP-USD\",\"ZEN-USD\",\"POLYX-USD\",\n",
    "\"XNO-USD\",\"STG-USD\",\"OXT-USD\",\"SYS-USD\",\n",
    "\"LOOM-USD\",\"KNC-USD\",\"REQ-USD\",\"BNT-USD\",\n",
    "\"RAD-USD\",\"GTC-USD\",\"TLM-USD\",\"STMX-USD\",\n",
    "\"REN-USD\",\"CLV-USD\",\"LOKA-USD\",\"LTO-USD\",\n",
    "\"MXC-USD\",\"VOXEL-USD\",\"BOSON-USD\",\"SANTOS-USD\",\n",
    "\"VITE-USD\",\"ALPINE-USD\",\"LAZIO-USD\",\"PORTO-USD\"]\n"
   ]
  },
  {
   "cell_type": "code",
   "execution_count": 5,
   "metadata": {},
   "outputs": [],
   "source": [
    "# Initialize an empty list to hold data for all tickers\n",
    "all_data = []\n",
    "\n",
    "# Loop through each ticker symbol in the list\n",
    "for i in binanceUS_cryptoUSDT_pairs:\n",
    "    # Fetch the ticker data\n",
    "    ticker = yf.Ticker(i)\n",
    "    # Get historical market data, here max is used for demonstration; you can customize the period\n",
    "    data = ticker.history(start = '2019-09-30', end = datetime.now(), interval = '1wk') #period = '1w'\n",
    "    \n",
    "    # Add a column to identify the ticker (optional)\n",
    "    data['Ticker'] = i\n",
    "    \n",
    "    # Append this data to the list\n",
    "    all_data.append(data)\n",
    "\n",
    "# Convert the list of DataFrames into a single DataFrame\n",
    "binanceUS_df = pd.concat(all_data)# Initialize an empty list to hold data for all tickers\n",
    "all_data = []\n",
    "\n"
   ]
  },
  {
   "cell_type": "code",
   "execution_count": 6,
   "metadata": {},
   "outputs": [],
   "source": [
    "binanceUS_df = binanceUS_df.reset_index()"
   ]
  },
  {
   "cell_type": "code",
   "execution_count": 7,
   "metadata": {},
   "outputs": [
    {
     "data": {
      "text/html": [
       "<div>\n",
       "<style scoped>\n",
       "    .dataframe tbody tr th:only-of-type {\n",
       "        vertical-align: middle;\n",
       "    }\n",
       "\n",
       "    .dataframe tbody tr th {\n",
       "        vertical-align: top;\n",
       "    }\n",
       "\n",
       "    .dataframe thead th {\n",
       "        text-align: right;\n",
       "    }\n",
       "</style>\n",
       "<table border=\"1\" class=\"dataframe\">\n",
       "  <thead>\n",
       "    <tr style=\"text-align: right;\">\n",
       "      <th></th>\n",
       "      <th>1INCH-USD_close</th>\n",
       "      <th>AAVE-USD_close</th>\n",
       "      <th>ACH-USD_close</th>\n",
       "      <th>ADA-USD_close</th>\n",
       "      <th>ALGO-USD_close</th>\n",
       "      <th>ALPINE-USD_close</th>\n",
       "      <th>ANKR-USD_close</th>\n",
       "      <th>ANT-USD_close</th>\n",
       "      <th>APE-USD_close</th>\n",
       "      <th>API3-USD_close</th>\n",
       "      <th>...</th>\n",
       "      <th>WAXP-USD_close</th>\n",
       "      <th>XLM-USD_close</th>\n",
       "      <th>XNO-USD_close</th>\n",
       "      <th>XRP-USD_close</th>\n",
       "      <th>XTZ-USD_close</th>\n",
       "      <th>YFI-USD_close</th>\n",
       "      <th>ZEC-USD_close</th>\n",
       "      <th>ZEN-USD_close</th>\n",
       "      <th>ZIL-USD_close</th>\n",
       "      <th>ZRX-USD_close</th>\n",
       "    </tr>\n",
       "    <tr>\n",
       "      <th>Date</th>\n",
       "      <th></th>\n",
       "      <th></th>\n",
       "      <th></th>\n",
       "      <th></th>\n",
       "      <th></th>\n",
       "      <th></th>\n",
       "      <th></th>\n",
       "      <th></th>\n",
       "      <th></th>\n",
       "      <th></th>\n",
       "      <th></th>\n",
       "      <th></th>\n",
       "      <th></th>\n",
       "      <th></th>\n",
       "      <th></th>\n",
       "      <th></th>\n",
       "      <th></th>\n",
       "      <th></th>\n",
       "      <th></th>\n",
       "      <th></th>\n",
       "      <th></th>\n",
       "    </tr>\n",
       "  </thead>\n",
       "  <tbody>\n",
       "    <tr>\n",
       "      <th>2019-09-30</th>\n",
       "      <td>NaN</td>\n",
       "      <td>NaN</td>\n",
       "      <td>NaN</td>\n",
       "      <td>0.039324</td>\n",
       "      <td>0.215211</td>\n",
       "      <td>NaN</td>\n",
       "      <td>0.002257</td>\n",
       "      <td>0.744012</td>\n",
       "      <td>NaN</td>\n",
       "      <td>NaN</td>\n",
       "      <td>...</td>\n",
       "      <td>0.025876</td>\n",
       "      <td>0.059092</td>\n",
       "      <td>0.721704</td>\n",
       "      <td>0.257705</td>\n",
       "      <td>0.876948</td>\n",
       "      <td>NaN</td>\n",
       "      <td>36.216797</td>\n",
       "      <td>3.419081</td>\n",
       "      <td>0.005920</td>\n",
       "      <td>0.213963</td>\n",
       "    </tr>\n",
       "    <tr>\n",
       "      <th>2019-10-07</th>\n",
       "      <td>NaN</td>\n",
       "      <td>NaN</td>\n",
       "      <td>NaN</td>\n",
       "      <td>0.041325</td>\n",
       "      <td>0.251536</td>\n",
       "      <td>NaN</td>\n",
       "      <td>0.002343</td>\n",
       "      <td>0.883781</td>\n",
       "      <td>NaN</td>\n",
       "      <td>NaN</td>\n",
       "      <td>...</td>\n",
       "      <td>0.026340</td>\n",
       "      <td>0.060136</td>\n",
       "      <td>0.772631</td>\n",
       "      <td>0.277765</td>\n",
       "      <td>0.903695</td>\n",
       "      <td>NaN</td>\n",
       "      <td>37.066952</td>\n",
       "      <td>3.361680</td>\n",
       "      <td>0.005717</td>\n",
       "      <td>0.292006</td>\n",
       "    </tr>\n",
       "    <tr>\n",
       "      <th>2019-10-14</th>\n",
       "      <td>NaN</td>\n",
       "      <td>NaN</td>\n",
       "      <td>NaN</td>\n",
       "      <td>0.039529</td>\n",
       "      <td>0.223964</td>\n",
       "      <td>NaN</td>\n",
       "      <td>0.002184</td>\n",
       "      <td>0.778567</td>\n",
       "      <td>NaN</td>\n",
       "      <td>NaN</td>\n",
       "      <td>...</td>\n",
       "      <td>0.026113</td>\n",
       "      <td>0.063247</td>\n",
       "      <td>0.801653</td>\n",
       "      <td>0.294179</td>\n",
       "      <td>0.877438</td>\n",
       "      <td>NaN</td>\n",
       "      <td>36.415157</td>\n",
       "      <td>3.863116</td>\n",
       "      <td>0.005241</td>\n",
       "      <td>0.331749</td>\n",
       "    </tr>\n",
       "    <tr>\n",
       "      <th>2019-10-21</th>\n",
       "      <td>NaN</td>\n",
       "      <td>NaN</td>\n",
       "      <td>NaN</td>\n",
       "      <td>0.042335</td>\n",
       "      <td>0.218714</td>\n",
       "      <td>NaN</td>\n",
       "      <td>0.002140</td>\n",
       "      <td>0.787407</td>\n",
       "      <td>NaN</td>\n",
       "      <td>NaN</td>\n",
       "      <td>...</td>\n",
       "      <td>0.025847</td>\n",
       "      <td>0.064513</td>\n",
       "      <td>0.851867</td>\n",
       "      <td>0.298100</td>\n",
       "      <td>0.875154</td>\n",
       "      <td>NaN</td>\n",
       "      <td>37.464546</td>\n",
       "      <td>4.805561</td>\n",
       "      <td>0.005707</td>\n",
       "      <td>0.287478</td>\n",
       "    </tr>\n",
       "    <tr>\n",
       "      <th>2019-10-28</th>\n",
       "      <td>NaN</td>\n",
       "      <td>NaN</td>\n",
       "      <td>NaN</td>\n",
       "      <td>0.041930</td>\n",
       "      <td>0.266931</td>\n",
       "      <td>NaN</td>\n",
       "      <td>0.002425</td>\n",
       "      <td>0.792556</td>\n",
       "      <td>NaN</td>\n",
       "      <td>NaN</td>\n",
       "      <td>...</td>\n",
       "      <td>0.026612</td>\n",
       "      <td>0.069091</td>\n",
       "      <td>0.848778</td>\n",
       "      <td>0.291261</td>\n",
       "      <td>0.868879</td>\n",
       "      <td>NaN</td>\n",
       "      <td>37.208088</td>\n",
       "      <td>4.928574</td>\n",
       "      <td>0.005993</td>\n",
       "      <td>0.295353</td>\n",
       "    </tr>\n",
       "    <tr>\n",
       "      <th>...</th>\n",
       "      <td>...</td>\n",
       "      <td>...</td>\n",
       "      <td>...</td>\n",
       "      <td>...</td>\n",
       "      <td>...</td>\n",
       "      <td>...</td>\n",
       "      <td>...</td>\n",
       "      <td>...</td>\n",
       "      <td>...</td>\n",
       "      <td>...</td>\n",
       "      <td>...</td>\n",
       "      <td>...</td>\n",
       "      <td>...</td>\n",
       "      <td>...</td>\n",
       "      <td>...</td>\n",
       "      <td>...</td>\n",
       "      <td>...</td>\n",
       "      <td>...</td>\n",
       "      <td>...</td>\n",
       "      <td>...</td>\n",
       "      <td>...</td>\n",
       "    </tr>\n",
       "    <tr>\n",
       "      <th>2024-02-05</th>\n",
       "      <td>0.420101</td>\n",
       "      <td>87.245590</td>\n",
       "      <td>0.018481</td>\n",
       "      <td>0.541410</td>\n",
       "      <td>0.179369</td>\n",
       "      <td>2.098208</td>\n",
       "      <td>0.024620</td>\n",
       "      <td>6.365592</td>\n",
       "      <td>1.429909</td>\n",
       "      <td>3.156786</td>\n",
       "      <td>...</td>\n",
       "      <td>0.057209</td>\n",
       "      <td>0.111152</td>\n",
       "      <td>1.151618</td>\n",
       "      <td>0.526084</td>\n",
       "      <td>1.032063</td>\n",
       "      <td>7404.869141</td>\n",
       "      <td>20.321379</td>\n",
       "      <td>7.868285</td>\n",
       "      <td>0.021009</td>\n",
       "      <td>0.319230</td>\n",
       "    </tr>\n",
       "    <tr>\n",
       "      <th>2024-02-12</th>\n",
       "      <td>0.452132</td>\n",
       "      <td>94.555176</td>\n",
       "      <td>0.021519</td>\n",
       "      <td>0.618734</td>\n",
       "      <td>0.196245</td>\n",
       "      <td>2.199610</td>\n",
       "      <td>0.028596</td>\n",
       "      <td>7.275680</td>\n",
       "      <td>1.729834</td>\n",
       "      <td>4.314926</td>\n",
       "      <td>...</td>\n",
       "      <td>0.060219</td>\n",
       "      <td>0.115867</td>\n",
       "      <td>1.342358</td>\n",
       "      <td>0.556903</td>\n",
       "      <td>1.074597</td>\n",
       "      <td>7728.047852</td>\n",
       "      <td>25.606726</td>\n",
       "      <td>11.218332</td>\n",
       "      <td>0.023643</td>\n",
       "      <td>0.354552</td>\n",
       "    </tr>\n",
       "    <tr>\n",
       "      <th>2024-02-19</th>\n",
       "      <td>0.496161</td>\n",
       "      <td>100.340874</td>\n",
       "      <td>0.026349</td>\n",
       "      <td>0.591379</td>\n",
       "      <td>0.207436</td>\n",
       "      <td>2.259287</td>\n",
       "      <td>0.032334</td>\n",
       "      <td>7.890445</td>\n",
       "      <td>1.384043</td>\n",
       "      <td>3.889412</td>\n",
       "      <td>...</td>\n",
       "      <td>0.062905</td>\n",
       "      <td>0.116442</td>\n",
       "      <td>1.165558</td>\n",
       "      <td>0.542425</td>\n",
       "      <td>1.116651</td>\n",
       "      <td>8262.159180</td>\n",
       "      <td>27.715679</td>\n",
       "      <td>10.376938</td>\n",
       "      <td>0.025575</td>\n",
       "      <td>0.370789</td>\n",
       "    </tr>\n",
       "    <tr>\n",
       "      <th>2024-02-26</th>\n",
       "      <td>0.495453</td>\n",
       "      <td>102.750137</td>\n",
       "      <td>0.026013</td>\n",
       "      <td>0.619736</td>\n",
       "      <td>0.211569</td>\n",
       "      <td>2.271501</td>\n",
       "      <td>0.033004</td>\n",
       "      <td>8.045101</td>\n",
       "      <td>1.949969</td>\n",
       "      <td>4.033236</td>\n",
       "      <td>...</td>\n",
       "      <td>0.066463</td>\n",
       "      <td>0.117967</td>\n",
       "      <td>1.160849</td>\n",
       "      <td>0.551405</td>\n",
       "      <td>1.143506</td>\n",
       "      <td>8386.796875</td>\n",
       "      <td>28.107693</td>\n",
       "      <td>10.802123</td>\n",
       "      <td>0.025947</td>\n",
       "      <td>0.372541</td>\n",
       "    </tr>\n",
       "    <tr>\n",
       "      <th>2024-02-27</th>\n",
       "      <td>0.489632</td>\n",
       "      <td>102.607033</td>\n",
       "      <td>0.026917</td>\n",
       "      <td>0.621497</td>\n",
       "      <td>0.207419</td>\n",
       "      <td>2.291604</td>\n",
       "      <td>0.035047</td>\n",
       "      <td>8.200625</td>\n",
       "      <td>1.956219</td>\n",
       "      <td>4.132496</td>\n",
       "      <td>...</td>\n",
       "      <td>0.066735</td>\n",
       "      <td>0.119816</td>\n",
       "      <td>1.197440</td>\n",
       "      <td>0.557205</td>\n",
       "      <td>1.138527</td>\n",
       "      <td>8506.707031</td>\n",
       "      <td>29.917732</td>\n",
       "      <td>10.908585</td>\n",
       "      <td>0.026642</td>\n",
       "      <td>0.371561</td>\n",
       "    </tr>\n",
       "  </tbody>\n",
       "</table>\n",
       "<p>233 rows × 132 columns</p>\n",
       "</div>"
      ],
      "text/plain": [
       "            1INCH-USD_close  AAVE-USD_close  ACH-USD_close  ADA-USD_close  \\\n",
       "Date                                                                        \n",
       "2019-09-30              NaN             NaN            NaN       0.039324   \n",
       "2019-10-07              NaN             NaN            NaN       0.041325   \n",
       "2019-10-14              NaN             NaN            NaN       0.039529   \n",
       "2019-10-21              NaN             NaN            NaN       0.042335   \n",
       "2019-10-28              NaN             NaN            NaN       0.041930   \n",
       "...                     ...             ...            ...            ...   \n",
       "2024-02-05         0.420101       87.245590       0.018481       0.541410   \n",
       "2024-02-12         0.452132       94.555176       0.021519       0.618734   \n",
       "2024-02-19         0.496161      100.340874       0.026349       0.591379   \n",
       "2024-02-26         0.495453      102.750137       0.026013       0.619736   \n",
       "2024-02-27         0.489632      102.607033       0.026917       0.621497   \n",
       "\n",
       "            ALGO-USD_close  ALPINE-USD_close  ANKR-USD_close  ANT-USD_close  \\\n",
       "Date                                                                          \n",
       "2019-09-30        0.215211               NaN        0.002257       0.744012   \n",
       "2019-10-07        0.251536               NaN        0.002343       0.883781   \n",
       "2019-10-14        0.223964               NaN        0.002184       0.778567   \n",
       "2019-10-21        0.218714               NaN        0.002140       0.787407   \n",
       "2019-10-28        0.266931               NaN        0.002425       0.792556   \n",
       "...                    ...               ...             ...            ...   \n",
       "2024-02-05        0.179369          2.098208        0.024620       6.365592   \n",
       "2024-02-12        0.196245          2.199610        0.028596       7.275680   \n",
       "2024-02-19        0.207436          2.259287        0.032334       7.890445   \n",
       "2024-02-26        0.211569          2.271501        0.033004       8.045101   \n",
       "2024-02-27        0.207419          2.291604        0.035047       8.200625   \n",
       "\n",
       "            APE-USD_close  API3-USD_close  ...  WAXP-USD_close  XLM-USD_close  \\\n",
       "Date                                       ...                                  \n",
       "2019-09-30            NaN             NaN  ...        0.025876       0.059092   \n",
       "2019-10-07            NaN             NaN  ...        0.026340       0.060136   \n",
       "2019-10-14            NaN             NaN  ...        0.026113       0.063247   \n",
       "2019-10-21            NaN             NaN  ...        0.025847       0.064513   \n",
       "2019-10-28            NaN             NaN  ...        0.026612       0.069091   \n",
       "...                   ...             ...  ...             ...            ...   \n",
       "2024-02-05       1.429909        3.156786  ...        0.057209       0.111152   \n",
       "2024-02-12       1.729834        4.314926  ...        0.060219       0.115867   \n",
       "2024-02-19       1.384043        3.889412  ...        0.062905       0.116442   \n",
       "2024-02-26       1.949969        4.033236  ...        0.066463       0.117967   \n",
       "2024-02-27       1.956219        4.132496  ...        0.066735       0.119816   \n",
       "\n",
       "            XNO-USD_close  XRP-USD_close  XTZ-USD_close  YFI-USD_close  \\\n",
       "Date                                                                     \n",
       "2019-09-30       0.721704       0.257705       0.876948            NaN   \n",
       "2019-10-07       0.772631       0.277765       0.903695            NaN   \n",
       "2019-10-14       0.801653       0.294179       0.877438            NaN   \n",
       "2019-10-21       0.851867       0.298100       0.875154            NaN   \n",
       "2019-10-28       0.848778       0.291261       0.868879            NaN   \n",
       "...                   ...            ...            ...            ...   \n",
       "2024-02-05       1.151618       0.526084       1.032063    7404.869141   \n",
       "2024-02-12       1.342358       0.556903       1.074597    7728.047852   \n",
       "2024-02-19       1.165558       0.542425       1.116651    8262.159180   \n",
       "2024-02-26       1.160849       0.551405       1.143506    8386.796875   \n",
       "2024-02-27       1.197440       0.557205       1.138527    8506.707031   \n",
       "\n",
       "            ZEC-USD_close  ZEN-USD_close  ZIL-USD_close  ZRX-USD_close  \n",
       "Date                                                                    \n",
       "2019-09-30      36.216797       3.419081       0.005920       0.213963  \n",
       "2019-10-07      37.066952       3.361680       0.005717       0.292006  \n",
       "2019-10-14      36.415157       3.863116       0.005241       0.331749  \n",
       "2019-10-21      37.464546       4.805561       0.005707       0.287478  \n",
       "2019-10-28      37.208088       4.928574       0.005993       0.295353  \n",
       "...                   ...            ...            ...            ...  \n",
       "2024-02-05      20.321379       7.868285       0.021009       0.319230  \n",
       "2024-02-12      25.606726      11.218332       0.023643       0.354552  \n",
       "2024-02-19      27.715679      10.376938       0.025575       0.370789  \n",
       "2024-02-26      28.107693      10.802123       0.025947       0.372541  \n",
       "2024-02-27      29.917732      10.908585       0.026642       0.371561  \n",
       "\n",
       "[233 rows x 132 columns]"
      ]
     },
     "execution_count": 7,
     "metadata": {},
     "output_type": "execute_result"
    }
   ],
   "source": [
    "# Pivot the DataFrame to make each ticker's close prices its own column\n",
    "close_prices_df = binanceUS_df.pivot(index='Date', columns='Ticker', values='Close')\n",
    "\n",
    "# Ensure the column names are correct after pivoting\n",
    "close_prices_df.columns = [f'{ticker}_close' for ticker in close_prices_df.columns]\n",
    "close_prices_df"
   ]
  },
  {
   "cell_type": "markdown",
   "metadata": {},
   "source": [
    "### Question:\n",
    "#### Whats the correlation between the closes of coins offered on Binance.US USDT trading pairs and Bitcoin since the bull market of 2019"
   ]
  },
  {
   "cell_type": "code",
   "execution_count": 8,
   "metadata": {},
   "outputs": [
    {
     "data": {
      "text/html": [
       "<div>\n",
       "<style scoped>\n",
       "    .dataframe tbody tr th:only-of-type {\n",
       "        vertical-align: middle;\n",
       "    }\n",
       "\n",
       "    .dataframe tbody tr th {\n",
       "        vertical-align: top;\n",
       "    }\n",
       "\n",
       "    .dataframe thead th {\n",
       "        text-align: right;\n",
       "    }\n",
       "</style>\n",
       "<table border=\"1\" class=\"dataframe\">\n",
       "  <thead>\n",
       "    <tr style=\"text-align: right;\">\n",
       "      <th></th>\n",
       "      <th>Ticker</th>\n",
       "      <th>correlation</th>\n",
       "    </tr>\n",
       "  </thead>\n",
       "  <tbody>\n",
       "    <tr>\n",
       "      <th>0</th>\n",
       "      <td>1INCH-USD_close</td>\n",
       "      <td>0.728002</td>\n",
       "    </tr>\n",
       "    <tr>\n",
       "      <th>1</th>\n",
       "      <td>AAVE-USD_close</td>\n",
       "      <td>0.738906</td>\n",
       "    </tr>\n",
       "    <tr>\n",
       "      <th>2</th>\n",
       "      <td>ACH-USD_close</td>\n",
       "      <td>0.499518</td>\n",
       "    </tr>\n",
       "    <tr>\n",
       "      <th>3</th>\n",
       "      <td>ADA-USD_close</td>\n",
       "      <td>0.793813</td>\n",
       "    </tr>\n",
       "    <tr>\n",
       "      <th>4</th>\n",
       "      <td>ALGO-USD_close</td>\n",
       "      <td>0.702104</td>\n",
       "    </tr>\n",
       "  </tbody>\n",
       "</table>\n",
       "</div>"
      ],
      "text/plain": [
       "            Ticker  correlation\n",
       "0  1INCH-USD_close     0.728002\n",
       "1   AAVE-USD_close     0.738906\n",
       "2    ACH-USD_close     0.499518\n",
       "3    ADA-USD_close     0.793813\n",
       "4   ALGO-USD_close     0.702104"
      ]
     },
     "execution_count": 8,
     "metadata": {},
     "output_type": "execute_result"
    }
   ],
   "source": [
    "# Calculate the correlation of each cryptocurrency's close prices with BTC's close prices\n",
    "binanceUS_correlation_with_btc = close_prices_df.corrwith(BTC_df['btc_close'])\n",
    "\n",
    "# The result will be a Series where each index is a 'ticker_close' and its value is the correlation with 'BTC_close'\n",
    "binanceUS_correlation_with_btc = pd.DataFrame(binanceUS_correlation_with_btc)\n",
    "binanceUS_correlation_with_btc.columns = ['correlation']\n",
    "# Reset the index and rename the new column\n",
    "binanceUS_correlation_with_btc.reset_index(inplace=True)\n",
    "binanceUS_correlation_with_btc.rename(columns={'index': 'Ticker'}, inplace=True)\n",
    "\n",
    "binanceUS_correlation_with_btc.head()"
   ]
  },
  {
   "cell_type": "code",
   "execution_count": 10,
   "metadata": {},
   "outputs": [
    {
     "data": {
      "application/vnd.plotly.v1+json": {
       "config": {
        "plotlyServerURL": "https://plot.ly"
       },
       "data": [
        {
         "alignmentgroup": "True",
         "hovertemplate": "Correlation with BTC=%{marker.color}<br>Ticker=%{y}<extra></extra>",
         "legendgroup": "",
         "marker": {
          "color": [
           0.9042854152899314,
           0.8683782214968061,
           0.8527202493261666,
           0.8444452843337582,
           0.8378972797735978,
           0.8253002370825206,
           0.821016259979283,
           0.8198008188998932,
           0.8137151263789445,
           0.8125342960170527,
           0.8080042919191016,
           0.8009472023146619,
           0.798043730886543,
           0.7944327109010973,
           0.7938129675725694,
           0.7903623844574823,
           0.7896544930496379,
           0.7893428156215524,
           0.7839802529887324,
           0.7824240603958411,
           0.7753433868189282,
           0.7746326446360794,
           0.7738364224818408,
           0.7733756864694725,
           0.7698774049381878,
           0.7684137799039724,
           0.7676688959388437,
           0.759530803136746,
           0.7558525976793169,
           0.7546152665628116,
           0.7543456729339076,
           0.754128589878246,
           0.7520635060751951,
           0.7497912239378213,
           0.7495241059481075,
           0.7492906096663254,
           0.7485012401870496,
           0.7465010381615177,
           0.7438170429582838,
           0.7407948287593694,
           0.7401250306586756,
           0.7389060796828782,
           0.732543735355614,
           0.7315869086630177,
           0.7315022406092492,
           0.7281891128536753,
           0.7280018088287211,
           0.723867057778747,
           0.719613148392441,
           0.7194611237331676,
           0.7176001986797705,
           0.7157330955662212,
           0.7117311087496663,
           0.7068236888336605,
           0.7021044387488594,
           0.6997003496028958,
           0.6956371509662809,
           0.6934670526245321,
           0.6911918941632363,
           0.6910200102166619,
           0.689903416389227,
           0.6793802618992726,
           0.6774445957665199,
           0.6766009643661397,
           0.6724563693024554,
           0.6676714925015695,
           0.6592483800927873,
           0.6558513610495696,
           0.6551734391535454,
           0.654336084747595,
           0.6530078595384997,
           0.645935639105159,
           0.6456819571549423,
           0.644967002933986,
           0.6435720058588915,
           0.6222237328616257,
           0.6205488893223472,
           0.6175818630204174,
           0.615062900391884,
           0.6130688312728527,
           0.6127890772509168,
           0.6109410925687423,
           0.6102747354926326,
           0.5997570353455266,
           0.5991773948107602,
           0.5834267169376949,
           0.581487345076574,
           0.5774035725505111,
           0.5680474833771733,
           0.562115772694997,
           0.5580205773875045,
           0.5576573531207787,
           0.5539056883465281,
           0.5458091909138221,
           0.5340047315960392,
           0.5233892273827975,
           0.5173329382367383,
           0.5085741462901096,
           0.499885334925493,
           0.4995183291717426,
           0.4839406358842585,
           0.4802544771228503,
           0.47626910976502196,
           0.45981152420626353,
           0.458724790596641,
           0.4143866728286605,
           0.4000807502279727,
           0.396868227034102,
           0.37866516388733995,
           0.36805205486246895,
           0.366183042446847,
           0.356041686988419,
           0.34999984475002544,
           0.34322563902719205,
           0.3408484092135731,
           0.31569061390391145,
           0.3106017995219914,
           0.27394622828636167,
           0.17377365841508163,
           0.1466093790759379,
           0.04429715141579889,
           -0.028236756372785117,
           -0.05128942596057445,
           -0.05507599981354629,
           -0.07018012513933444,
           -0.17684701011014123,
           -0.2027616150998944,
           -0.2440872743000047,
           -0.2868381458115305,
           -0.36346562712584535,
           -0.8377787305375594,
           null
          ],
          "coloraxis": "coloraxis",
          "pattern": {
           "shape": ""
          }
         },
         "name": "",
         "offsetgroup": "",
         "orientation": "h",
         "showlegend": false,
         "text": [
          0.9042854152899314,
          0.8683782214968061,
          0.8527202493261666,
          0.8444452843337582,
          0.8378972797735978,
          0.8253002370825206,
          0.821016259979283,
          0.8198008188998932,
          0.8137151263789445,
          0.8125342960170527,
          0.8080042919191016,
          0.8009472023146619,
          0.798043730886543,
          0.7944327109010973,
          0.7938129675725694,
          0.7903623844574823,
          0.7896544930496379,
          0.7893428156215524,
          0.7839802529887324,
          0.7824240603958411,
          0.7753433868189282,
          0.7746326446360794,
          0.7738364224818408,
          0.7733756864694725,
          0.7698774049381878,
          0.7684137799039724,
          0.7676688959388437,
          0.759530803136746,
          0.7558525976793169,
          0.7546152665628116,
          0.7543456729339076,
          0.754128589878246,
          0.7520635060751951,
          0.7497912239378213,
          0.7495241059481075,
          0.7492906096663254,
          0.7485012401870496,
          0.7465010381615177,
          0.7438170429582838,
          0.7407948287593694,
          0.7401250306586756,
          0.7389060796828782,
          0.732543735355614,
          0.7315869086630177,
          0.7315022406092492,
          0.7281891128536753,
          0.7280018088287211,
          0.723867057778747,
          0.719613148392441,
          0.7194611237331676,
          0.7176001986797705,
          0.7157330955662212,
          0.7117311087496663,
          0.7068236888336605,
          0.7021044387488594,
          0.6997003496028958,
          0.6956371509662809,
          0.6934670526245321,
          0.6911918941632363,
          0.6910200102166619,
          0.689903416389227,
          0.6793802618992726,
          0.6774445957665199,
          0.6766009643661397,
          0.6724563693024554,
          0.6676714925015695,
          0.6592483800927873,
          0.6558513610495696,
          0.6551734391535454,
          0.654336084747595,
          0.6530078595384997,
          0.645935639105159,
          0.6456819571549423,
          0.644967002933986,
          0.6435720058588915,
          0.6222237328616257,
          0.6205488893223472,
          0.6175818630204174,
          0.615062900391884,
          0.6130688312728527,
          0.6127890772509168,
          0.6109410925687423,
          0.6102747354926326,
          0.5997570353455266,
          0.5991773948107602,
          0.5834267169376949,
          0.581487345076574,
          0.5774035725505111,
          0.5680474833771733,
          0.562115772694997,
          0.5580205773875045,
          0.5576573531207787,
          0.5539056883465281,
          0.5458091909138221,
          0.5340047315960392,
          0.5233892273827975,
          0.5173329382367383,
          0.5085741462901096,
          0.499885334925493,
          0.4995183291717426,
          0.4839406358842585,
          0.4802544771228503,
          0.47626910976502196,
          0.45981152420626353,
          0.458724790596641,
          0.4143866728286605,
          0.4000807502279727,
          0.396868227034102,
          0.37866516388733995,
          0.36805205486246895,
          0.366183042446847,
          0.356041686988419,
          0.34999984475002544,
          0.34322563902719205,
          0.3408484092135731,
          0.31569061390391145,
          0.3106017995219914,
          0.27394622828636167,
          0.17377365841508163,
          0.1466093790759379,
          0.04429715141579889,
          -0.028236756372785117,
          -0.05128942596057445,
          -0.05507599981354629,
          -0.07018012513933444,
          -0.17684701011014123,
          -0.2027616150998944,
          -0.2440872743000047,
          -0.2868381458115305,
          -0.36346562712584535,
          -0.8377787305375594,
          null
         ],
         "textposition": "outside",
         "texttemplate": "%{text:.2f}",
         "type": "bar",
         "x": [
          0.9042854152899314,
          0.8683782214968061,
          0.8527202493261666,
          0.8444452843337582,
          0.8378972797735978,
          0.8253002370825206,
          0.821016259979283,
          0.8198008188998932,
          0.8137151263789445,
          0.8125342960170527,
          0.8080042919191016,
          0.8009472023146619,
          0.798043730886543,
          0.7944327109010973,
          0.7938129675725694,
          0.7903623844574823,
          0.7896544930496379,
          0.7893428156215524,
          0.7839802529887324,
          0.7824240603958411,
          0.7753433868189282,
          0.7746326446360794,
          0.7738364224818408,
          0.7733756864694725,
          0.7698774049381878,
          0.7684137799039724,
          0.7676688959388437,
          0.759530803136746,
          0.7558525976793169,
          0.7546152665628116,
          0.7543456729339076,
          0.754128589878246,
          0.7520635060751951,
          0.7497912239378213,
          0.7495241059481075,
          0.7492906096663254,
          0.7485012401870496,
          0.7465010381615177,
          0.7438170429582838,
          0.7407948287593694,
          0.7401250306586756,
          0.7389060796828782,
          0.732543735355614,
          0.7315869086630177,
          0.7315022406092492,
          0.7281891128536753,
          0.7280018088287211,
          0.723867057778747,
          0.719613148392441,
          0.7194611237331676,
          0.7176001986797705,
          0.7157330955662212,
          0.7117311087496663,
          0.7068236888336605,
          0.7021044387488594,
          0.6997003496028958,
          0.6956371509662809,
          0.6934670526245321,
          0.6911918941632363,
          0.6910200102166619,
          0.689903416389227,
          0.6793802618992726,
          0.6774445957665199,
          0.6766009643661397,
          0.6724563693024554,
          0.6676714925015695,
          0.6592483800927873,
          0.6558513610495696,
          0.6551734391535454,
          0.654336084747595,
          0.6530078595384997,
          0.645935639105159,
          0.6456819571549423,
          0.644967002933986,
          0.6435720058588915,
          0.6222237328616257,
          0.6205488893223472,
          0.6175818630204174,
          0.615062900391884,
          0.6130688312728527,
          0.6127890772509168,
          0.6109410925687423,
          0.6102747354926326,
          0.5997570353455266,
          0.5991773948107602,
          0.5834267169376949,
          0.581487345076574,
          0.5774035725505111,
          0.5680474833771733,
          0.562115772694997,
          0.5580205773875045,
          0.5576573531207787,
          0.5539056883465281,
          0.5458091909138221,
          0.5340047315960392,
          0.5233892273827975,
          0.5173329382367383,
          0.5085741462901096,
          0.499885334925493,
          0.4995183291717426,
          0.4839406358842585,
          0.4802544771228503,
          0.47626910976502196,
          0.45981152420626353,
          0.458724790596641,
          0.4143866728286605,
          0.4000807502279727,
          0.396868227034102,
          0.37866516388733995,
          0.36805205486246895,
          0.366183042446847,
          0.356041686988419,
          0.34999984475002544,
          0.34322563902719205,
          0.3408484092135731,
          0.31569061390391145,
          0.3106017995219914,
          0.27394622828636167,
          0.17377365841508163,
          0.1466093790759379,
          0.04429715141579889,
          -0.028236756372785117,
          -0.05128942596057445,
          -0.05507599981354629,
          -0.07018012513933444,
          -0.17684701011014123,
          -0.2027616150998944,
          -0.2440872743000047,
          -0.2868381458115305,
          -0.36346562712584535,
          -0.8377787305375594,
          null
         ],
         "xaxis": "x",
         "y": [
          "ETH-USD_close",
          "FET-USD_close",
          "OCEAN-USD_close",
          "MKR-USD_close",
          "LINK-USD_close",
          "XRP-USD_close",
          "BNB-USD_close",
          "DOT-USD_close",
          "STORJ-USD_close",
          "HBAR-USD_close",
          "COTI-USD_close",
          "API3-USD_close",
          "ANKR-USD_close",
          "LTC-USD_close",
          "ADA-USD_close",
          "LOOM-USD_close",
          "ANT-USD_close",
          "ASTR-USD_close",
          "IOTA-USD_close",
          "XLM-USD_close",
          "RAD-USD_close",
          "EGLD-USD_close",
          "VET-USD_close",
          "CTSI-USD_close",
          "KSM-USD_close",
          "ENJ-USD_close",
          "ATOM-USD_close",
          "LTO-USD_close",
          "CHZ-USD_close",
          "THETA-USD_close",
          "VTHO-USD_close",
          "STMX-USD_close",
          "QTUM-USD_close",
          "CELR-USD_close",
          "PROM-USD_close",
          "IMX-USD_close",
          "ZIL-USD_close",
          "SKL-USD_close",
          "ICX-USD_close",
          "AUDIO-USD_close",
          "LPT-USD_close",
          "AAVE-USD_close",
          "BAT-USD_close",
          "BOSON-USD_close",
          "ZEN-USD_close",
          "BNT-USD_close",
          "1INCH-USD_close",
          "ZRX-USD_close",
          "MASK-USD_close",
          "TFUEL-USD_close",
          "RVN-USD_close",
          "CUDOS-USD_close",
          "SOL-USD_close",
          "SUSHI-USD_close",
          "ALGO-USD_close",
          "XNO-USD_close",
          "DOGE-USD_close",
          "VITE-USD_close",
          "WAVES-USD_close",
          "FLOW-USD_close",
          "REN-USD_close",
          "WAXP-USD_close",
          "REQ-USD_close",
          "CLV-USD_close",
          "SNX-USD_close",
          "ETC-USD_close",
          "MATIC-USD_close",
          "FLOKI-USD_close",
          "FTM-USD_close",
          "ZEC-USD_close",
          "AVAX-USD_close",
          "ROSE-USD_close",
          "KAVA-USD_close",
          "NMR-USD_close",
          "NEO-USD_close",
          "BCH-USD_close",
          "SYS-USD_close",
          "ENS-USD_close",
          "QNT-USD_close",
          "ILV-USD_close",
          "CELO-USD_close",
          "MANA-USD_close",
          "DGB-USD_close",
          "FIL-USD_close",
          "LRC-USD_close",
          "DASH-USD_close",
          "YFI-USD_close",
          "GAL-USD_close",
          "CRV-USD_close",
          "AXS-USD_close",
          "BAND-USD_close",
          "RNDR-USD_close",
          "XTZ-USD_close",
          "NEAR-USD_close",
          "APT-USD_close",
          "LDO-USD_close",
          "SHIB-USD_close",
          "BICO-USD_close",
          "VOXEL-USD_close",
          "ACH-USD_close",
          "OP-USD_close",
          "ICP-USD_close",
          "OXT-USD_close",
          "FLUX-USD_close",
          "KDA-USD_close",
          "PAXG-USD_close",
          "T-USD_close",
          "ONT-USD_close",
          "SAND-USD_close",
          "SLP-USD_close",
          "KNC-USD_close",
          "MXC-USD_close",
          "GALA-USD_close",
          "POLYX-USD_close",
          "LOKA-USD_close",
          "EOS-USD_close",
          "TLM-USD_close",
          "LAZIO-USD_close",
          "APE-USD_close",
          "ALPINE-USD_close",
          "ARB-USD_close",
          "PORTO-USD_close",
          "ONE-USD_close",
          "UNI-USD_close",
          "GTC-USD_close",
          "DAI-USD_close",
          "USDC-USD_close",
          "GRT-USD_close",
          "USDT-USD_close",
          "SANTOS-USD_close",
          "COMP-USD_close",
          "STG-USD_close"
         ],
         "yaxis": "y"
        }
       ],
       "layout": {
        "barmode": "relative",
        "coloraxis": {
         "colorbar": {
          "title": {
           "text": "Correlation"
          }
         },
         "colorscale": [
          [
           0,
           "rgb(103,0,31)"
          ],
          [
           0.1,
           "rgb(178,24,43)"
          ],
          [
           0.2,
           "rgb(214,96,77)"
          ],
          [
           0.3,
           "rgb(244,165,130)"
          ],
          [
           0.4,
           "rgb(253,219,199)"
          ],
          [
           0.5,
           "rgb(247,247,247)"
          ],
          [
           0.6,
           "rgb(209,229,240)"
          ],
          [
           0.7,
           "rgb(146,197,222)"
          ],
          [
           0.8,
           "rgb(67,147,195)"
          ],
          [
           0.9,
           "rgb(33,102,172)"
          ],
          [
           1,
           "rgb(5,48,97)"
          ]
         ]
        },
        "height": 2000,
        "legend": {
         "tracegroupgap": 0
        },
        "margin": {
         "t": 60
        },
        "template": {
         "data": {
          "bar": [
           {
            "error_x": {
             "color": "#2a3f5f"
            },
            "error_y": {
             "color": "#2a3f5f"
            },
            "marker": {
             "line": {
              "color": "white",
              "width": 0.5
             },
             "pattern": {
              "fillmode": "overlay",
              "size": 10,
              "solidity": 0.2
             }
            },
            "type": "bar"
           }
          ],
          "barpolar": [
           {
            "marker": {
             "line": {
              "color": "white",
              "width": 0.5
             },
             "pattern": {
              "fillmode": "overlay",
              "size": 10,
              "solidity": 0.2
             }
            },
            "type": "barpolar"
           }
          ],
          "carpet": [
           {
            "aaxis": {
             "endlinecolor": "#2a3f5f",
             "gridcolor": "#C8D4E3",
             "linecolor": "#C8D4E3",
             "minorgridcolor": "#C8D4E3",
             "startlinecolor": "#2a3f5f"
            },
            "baxis": {
             "endlinecolor": "#2a3f5f",
             "gridcolor": "#C8D4E3",
             "linecolor": "#C8D4E3",
             "minorgridcolor": "#C8D4E3",
             "startlinecolor": "#2a3f5f"
            },
            "type": "carpet"
           }
          ],
          "choropleth": [
           {
            "colorbar": {
             "outlinewidth": 0,
             "ticks": ""
            },
            "type": "choropleth"
           }
          ],
          "contour": [
           {
            "colorbar": {
             "outlinewidth": 0,
             "ticks": ""
            },
            "colorscale": [
             [
              0,
              "#0d0887"
             ],
             [
              0.1111111111111111,
              "#46039f"
             ],
             [
              0.2222222222222222,
              "#7201a8"
             ],
             [
              0.3333333333333333,
              "#9c179e"
             ],
             [
              0.4444444444444444,
              "#bd3786"
             ],
             [
              0.5555555555555556,
              "#d8576b"
             ],
             [
              0.6666666666666666,
              "#ed7953"
             ],
             [
              0.7777777777777778,
              "#fb9f3a"
             ],
             [
              0.8888888888888888,
              "#fdca26"
             ],
             [
              1,
              "#f0f921"
             ]
            ],
            "type": "contour"
           }
          ],
          "contourcarpet": [
           {
            "colorbar": {
             "outlinewidth": 0,
             "ticks": ""
            },
            "type": "contourcarpet"
           }
          ],
          "heatmap": [
           {
            "colorbar": {
             "outlinewidth": 0,
             "ticks": ""
            },
            "colorscale": [
             [
              0,
              "#0d0887"
             ],
             [
              0.1111111111111111,
              "#46039f"
             ],
             [
              0.2222222222222222,
              "#7201a8"
             ],
             [
              0.3333333333333333,
              "#9c179e"
             ],
             [
              0.4444444444444444,
              "#bd3786"
             ],
             [
              0.5555555555555556,
              "#d8576b"
             ],
             [
              0.6666666666666666,
              "#ed7953"
             ],
             [
              0.7777777777777778,
              "#fb9f3a"
             ],
             [
              0.8888888888888888,
              "#fdca26"
             ],
             [
              1,
              "#f0f921"
             ]
            ],
            "type": "heatmap"
           }
          ],
          "heatmapgl": [
           {
            "colorbar": {
             "outlinewidth": 0,
             "ticks": ""
            },
            "colorscale": [
             [
              0,
              "#0d0887"
             ],
             [
              0.1111111111111111,
              "#46039f"
             ],
             [
              0.2222222222222222,
              "#7201a8"
             ],
             [
              0.3333333333333333,
              "#9c179e"
             ],
             [
              0.4444444444444444,
              "#bd3786"
             ],
             [
              0.5555555555555556,
              "#d8576b"
             ],
             [
              0.6666666666666666,
              "#ed7953"
             ],
             [
              0.7777777777777778,
              "#fb9f3a"
             ],
             [
              0.8888888888888888,
              "#fdca26"
             ],
             [
              1,
              "#f0f921"
             ]
            ],
            "type": "heatmapgl"
           }
          ],
          "histogram": [
           {
            "marker": {
             "pattern": {
              "fillmode": "overlay",
              "size": 10,
              "solidity": 0.2
             }
            },
            "type": "histogram"
           }
          ],
          "histogram2d": [
           {
            "colorbar": {
             "outlinewidth": 0,
             "ticks": ""
            },
            "colorscale": [
             [
              0,
              "#0d0887"
             ],
             [
              0.1111111111111111,
              "#46039f"
             ],
             [
              0.2222222222222222,
              "#7201a8"
             ],
             [
              0.3333333333333333,
              "#9c179e"
             ],
             [
              0.4444444444444444,
              "#bd3786"
             ],
             [
              0.5555555555555556,
              "#d8576b"
             ],
             [
              0.6666666666666666,
              "#ed7953"
             ],
             [
              0.7777777777777778,
              "#fb9f3a"
             ],
             [
              0.8888888888888888,
              "#fdca26"
             ],
             [
              1,
              "#f0f921"
             ]
            ],
            "type": "histogram2d"
           }
          ],
          "histogram2dcontour": [
           {
            "colorbar": {
             "outlinewidth": 0,
             "ticks": ""
            },
            "colorscale": [
             [
              0,
              "#0d0887"
             ],
             [
              0.1111111111111111,
              "#46039f"
             ],
             [
              0.2222222222222222,
              "#7201a8"
             ],
             [
              0.3333333333333333,
              "#9c179e"
             ],
             [
              0.4444444444444444,
              "#bd3786"
             ],
             [
              0.5555555555555556,
              "#d8576b"
             ],
             [
              0.6666666666666666,
              "#ed7953"
             ],
             [
              0.7777777777777778,
              "#fb9f3a"
             ],
             [
              0.8888888888888888,
              "#fdca26"
             ],
             [
              1,
              "#f0f921"
             ]
            ],
            "type": "histogram2dcontour"
           }
          ],
          "mesh3d": [
           {
            "colorbar": {
             "outlinewidth": 0,
             "ticks": ""
            },
            "type": "mesh3d"
           }
          ],
          "parcoords": [
           {
            "line": {
             "colorbar": {
              "outlinewidth": 0,
              "ticks": ""
             }
            },
            "type": "parcoords"
           }
          ],
          "pie": [
           {
            "automargin": true,
            "type": "pie"
           }
          ],
          "scatter": [
           {
            "fillpattern": {
             "fillmode": "overlay",
             "size": 10,
             "solidity": 0.2
            },
            "type": "scatter"
           }
          ],
          "scatter3d": [
           {
            "line": {
             "colorbar": {
              "outlinewidth": 0,
              "ticks": ""
             }
            },
            "marker": {
             "colorbar": {
              "outlinewidth": 0,
              "ticks": ""
             }
            },
            "type": "scatter3d"
           }
          ],
          "scattercarpet": [
           {
            "marker": {
             "colorbar": {
              "outlinewidth": 0,
              "ticks": ""
             }
            },
            "type": "scattercarpet"
           }
          ],
          "scattergeo": [
           {
            "marker": {
             "colorbar": {
              "outlinewidth": 0,
              "ticks": ""
             }
            },
            "type": "scattergeo"
           }
          ],
          "scattergl": [
           {
            "marker": {
             "colorbar": {
              "outlinewidth": 0,
              "ticks": ""
             }
            },
            "type": "scattergl"
           }
          ],
          "scattermapbox": [
           {
            "marker": {
             "colorbar": {
              "outlinewidth": 0,
              "ticks": ""
             }
            },
            "type": "scattermapbox"
           }
          ],
          "scatterpolar": [
           {
            "marker": {
             "colorbar": {
              "outlinewidth": 0,
              "ticks": ""
             }
            },
            "type": "scatterpolar"
           }
          ],
          "scatterpolargl": [
           {
            "marker": {
             "colorbar": {
              "outlinewidth": 0,
              "ticks": ""
             }
            },
            "type": "scatterpolargl"
           }
          ],
          "scatterternary": [
           {
            "marker": {
             "colorbar": {
              "outlinewidth": 0,
              "ticks": ""
             }
            },
            "type": "scatterternary"
           }
          ],
          "surface": [
           {
            "colorbar": {
             "outlinewidth": 0,
             "ticks": ""
            },
            "colorscale": [
             [
              0,
              "#0d0887"
             ],
             [
              0.1111111111111111,
              "#46039f"
             ],
             [
              0.2222222222222222,
              "#7201a8"
             ],
             [
              0.3333333333333333,
              "#9c179e"
             ],
             [
              0.4444444444444444,
              "#bd3786"
             ],
             [
              0.5555555555555556,
              "#d8576b"
             ],
             [
              0.6666666666666666,
              "#ed7953"
             ],
             [
              0.7777777777777778,
              "#fb9f3a"
             ],
             [
              0.8888888888888888,
              "#fdca26"
             ],
             [
              1,
              "#f0f921"
             ]
            ],
            "type": "surface"
           }
          ],
          "table": [
           {
            "cells": {
             "fill": {
              "color": "#EBF0F8"
             },
             "line": {
              "color": "white"
             }
            },
            "header": {
             "fill": {
              "color": "#C8D4E3"
             },
             "line": {
              "color": "white"
             }
            },
            "type": "table"
           }
          ]
         },
         "layout": {
          "annotationdefaults": {
           "arrowcolor": "#2a3f5f",
           "arrowhead": 0,
           "arrowwidth": 1
          },
          "autotypenumbers": "strict",
          "coloraxis": {
           "colorbar": {
            "outlinewidth": 0,
            "ticks": ""
           }
          },
          "colorscale": {
           "diverging": [
            [
             0,
             "#8e0152"
            ],
            [
             0.1,
             "#c51b7d"
            ],
            [
             0.2,
             "#de77ae"
            ],
            [
             0.3,
             "#f1b6da"
            ],
            [
             0.4,
             "#fde0ef"
            ],
            [
             0.5,
             "#f7f7f7"
            ],
            [
             0.6,
             "#e6f5d0"
            ],
            [
             0.7,
             "#b8e186"
            ],
            [
             0.8,
             "#7fbc41"
            ],
            [
             0.9,
             "#4d9221"
            ],
            [
             1,
             "#276419"
            ]
           ],
           "sequential": [
            [
             0,
             "#0d0887"
            ],
            [
             0.1111111111111111,
             "#46039f"
            ],
            [
             0.2222222222222222,
             "#7201a8"
            ],
            [
             0.3333333333333333,
             "#9c179e"
            ],
            [
             0.4444444444444444,
             "#bd3786"
            ],
            [
             0.5555555555555556,
             "#d8576b"
            ],
            [
             0.6666666666666666,
             "#ed7953"
            ],
            [
             0.7777777777777778,
             "#fb9f3a"
            ],
            [
             0.8888888888888888,
             "#fdca26"
            ],
            [
             1,
             "#f0f921"
            ]
           ],
           "sequentialminus": [
            [
             0,
             "#0d0887"
            ],
            [
             0.1111111111111111,
             "#46039f"
            ],
            [
             0.2222222222222222,
             "#7201a8"
            ],
            [
             0.3333333333333333,
             "#9c179e"
            ],
            [
             0.4444444444444444,
             "#bd3786"
            ],
            [
             0.5555555555555556,
             "#d8576b"
            ],
            [
             0.6666666666666666,
             "#ed7953"
            ],
            [
             0.7777777777777778,
             "#fb9f3a"
            ],
            [
             0.8888888888888888,
             "#fdca26"
            ],
            [
             1,
             "#f0f921"
            ]
           ]
          },
          "colorway": [
           "#636efa",
           "#EF553B",
           "#00cc96",
           "#ab63fa",
           "#FFA15A",
           "#19d3f3",
           "#FF6692",
           "#B6E880",
           "#FF97FF",
           "#FECB52"
          ],
          "font": {
           "color": "#2a3f5f"
          },
          "geo": {
           "bgcolor": "white",
           "lakecolor": "white",
           "landcolor": "white",
           "showlakes": true,
           "showland": true,
           "subunitcolor": "#C8D4E3"
          },
          "hoverlabel": {
           "align": "left"
          },
          "hovermode": "closest",
          "mapbox": {
           "style": "light"
          },
          "paper_bgcolor": "white",
          "plot_bgcolor": "white",
          "polar": {
           "angularaxis": {
            "gridcolor": "#EBF0F8",
            "linecolor": "#EBF0F8",
            "ticks": ""
           },
           "bgcolor": "white",
           "radialaxis": {
            "gridcolor": "#EBF0F8",
            "linecolor": "#EBF0F8",
            "ticks": ""
           }
          },
          "scene": {
           "xaxis": {
            "backgroundcolor": "white",
            "gridcolor": "#DFE8F3",
            "gridwidth": 2,
            "linecolor": "#EBF0F8",
            "showbackground": true,
            "ticks": "",
            "zerolinecolor": "#EBF0F8"
           },
           "yaxis": {
            "backgroundcolor": "white",
            "gridcolor": "#DFE8F3",
            "gridwidth": 2,
            "linecolor": "#EBF0F8",
            "showbackground": true,
            "ticks": "",
            "zerolinecolor": "#EBF0F8"
           },
           "zaxis": {
            "backgroundcolor": "white",
            "gridcolor": "#DFE8F3",
            "gridwidth": 2,
            "linecolor": "#EBF0F8",
            "showbackground": true,
            "ticks": "",
            "zerolinecolor": "#EBF0F8"
           }
          },
          "shapedefaults": {
           "line": {
            "color": "#2a3f5f"
           }
          },
          "ternary": {
           "aaxis": {
            "gridcolor": "#DFE8F3",
            "linecolor": "#A2B1C6",
            "ticks": ""
           },
           "baxis": {
            "gridcolor": "#DFE8F3",
            "linecolor": "#A2B1C6",
            "ticks": ""
           },
           "bgcolor": "white",
           "caxis": {
            "gridcolor": "#DFE8F3",
            "linecolor": "#A2B1C6",
            "ticks": ""
           }
          },
          "title": {
           "x": 0.05
          },
          "xaxis": {
           "automargin": true,
           "gridcolor": "#EBF0F8",
           "linecolor": "#EBF0F8",
           "ticks": "",
           "title": {
            "standoff": 15
           },
           "zerolinecolor": "#EBF0F8",
           "zerolinewidth": 2
          },
          "yaxis": {
           "automargin": true,
           "gridcolor": "#EBF0F8",
           "linecolor": "#EBF0F8",
           "ticks": "",
           "title": {
            "standoff": 15
           },
           "zerolinecolor": "#EBF0F8",
           "zerolinewidth": 2
          }
         }
        },
        "title": {
         "text": "Correlation of Cryptocurrencies with BTC Close Prices"
        },
        "width": 800,
        "xaxis": {
         "anchor": "y",
         "domain": [
          0,
          1
         ],
         "title": {
          "text": "Correlation with BTC Close Price"
         }
        },
        "yaxis": {
         "anchor": "x",
         "domain": [
          0,
          1
         ],
         "title": {
          "text": "Cryptocurrency"
         }
        }
       }
      }
     },
     "metadata": {},
     "output_type": "display_data"
    }
   ],
   "source": [
    "import plotly.express as px\n",
    "\n",
    "binanceUS_correlation_with_btc = binanceUS_correlation_with_btc.sort_values(by='correlation', ascending=False)\n",
    "\n",
    "# Interactive bar chart\n",
    "fig = px.bar(binanceUS_correlation_with_btc, y='Ticker', x='correlation', \n",
    "             text='correlation', orientation='h', \n",
    "             color='correlation', color_continuous_scale='RdBu',\n",
    "             labels={'correlation': 'Correlation with BTC'})\n",
    "\n",
    "# Layout enhancements\n",
    "fig.update_layout(title='Correlation of Cryptocurrencies with BTC Close Prices',\n",
    "                  xaxis_title='Correlation with BTC Close Price',\n",
    "                  yaxis_title='Cryptocurrency',\n",
    "                  coloraxis_colorbar=dict(title=\"Correlation\"),\n",
    "                  template='plotly_white',\n",
    "                  width = 800,\n",
    "                  height = 2000)\n",
    "\n",
    "# Text on bars\n",
    "fig.update_traces(texttemplate='%{text:.2f}', textposition='outside')\n",
    "\n",
    "fig.show()\n"
   ]
  },
  {
   "cell_type": "code",
   "execution_count": 11,
   "metadata": {},
   "outputs": [
    {
     "data": {
      "text/plain": [
       "['ETH-USD_close', 'FET-USD_close', 'OCEAN-USD_close']"
      ]
     },
     "execution_count": 11,
     "metadata": {},
     "output_type": "execute_result"
    }
   ],
   "source": [
    "# Initialize the list to hold highly correlated tickers\n",
    "highly_correlated = []\n",
    "\n",
    "# Iterate through the DataFrame and check each correlation value\n",
    "for index, row in binanceUS_correlation_with_btc.iterrows():\n",
    "    # Check if the correlation is greater than 0.80\n",
    "    if row['correlation'] > 0.85:\n",
    "        # Add the ticker name to the list\n",
    "        highly_correlated.append(row['Ticker'])\n",
    "\n",
    "# Display the list of highly correlated tickers\n",
    "highly_correlated\n"
   ]
  },
  {
   "cell_type": "markdown",
   "metadata": {},
   "source": [
    "### Question:\n",
    "#### Whats the correltion between the close of cryptocurrrencies offered on Binance.US USDT trading pairs since Bitcoins 2019 bull run cycle to its low"
   ]
  },
  {
   "cell_type": "code",
   "execution_count": 16,
   "metadata": {},
   "outputs": [
    {
     "name": "stdout",
     "output_type": "stream",
     "text": [
      "- IOTA-USD: Data doesn't exist for startDate = 1567839600, endDate = 1669017600\n",
      "- STG-USD: No data found for this date range, symbol may be delisted\n"
     ]
    },
    {
     "name": "stderr",
     "output_type": "stream",
     "text": [
      "C:\\Users\\Gino\\AppData\\Local\\Temp\\ipykernel_13168\\2904203921.py:18: FutureWarning:\n",
      "\n",
      "The behavior of array concatenation with empty entries is deprecated. In a future version, this will no longer exclude empty items when determining the result dtype. To retain the old behavior, exclude the empty entries before the concat operation.\n",
      "\n"
     ]
    },
    {
     "data": {
      "application/vnd.plotly.v1+json": {
       "config": {
        "plotlyServerURL": "https://plot.ly"
       },
       "data": [
        {
         "alignmentgroup": "True",
         "hovertemplate": "Correlation with BTC=%{marker.color}<br>Ticker=%{y}<extra></extra>",
         "legendgroup": "",
         "marker": {
          "color": [
           0.9507914212398554,
           0.9339208578064873,
           0.9272118724785114,
           0.9167968925959153,
           0.9068950615783126,
           0.9063662344010415,
           0.9051241247521803,
           0.9038763232239173,
           0.9015410096495311,
           0.8983635697589357,
           0.8945555747788675,
           0.8935419413013204,
           0.8927932654878822,
           0.8920689872633325,
           0.8910639017599458,
           0.8905062849858123,
           0.8852294281227854,
           0.884992473123782,
           0.88488671865064,
           0.8844170771451848,
           0.8794934179262459,
           0.8766252878514146,
           0.8762179083990213,
           0.8761909735206703,
           0.875535807157502,
           0.8745895433526244,
           0.8698854818575612,
           0.8632946157046814,
           0.8625575550440282,
           0.8613062747909589,
           0.8596327886112768,
           0.8580467906090526,
           0.8565143032292666,
           0.8553824777974587,
           0.8553538114066035,
           0.8535935451917374,
           0.8522148036054422,
           0.8520081254476762,
           0.8519800029188321,
           0.8475686238091809,
           0.8462027906603989,
           0.8374010518402409,
           0.8358705297768914,
           0.8356153462460878,
           0.8339419917092534,
           0.8339306125982677,
           0.8301661051761884,
           0.8237442700051638,
           0.8234110147205985,
           0.822355116989376,
           0.8217404915558479,
           0.8200365200380353,
           0.8192465916488196,
           0.8163985645556643,
           0.8130641526533784,
           0.8130049567417627,
           0.8129451243914867,
           0.8055223145144278,
           0.799549077945056,
           0.7921536050560182,
           0.7913068672024384,
           0.7909187638353391,
           0.7844982250517637,
           0.783857002858784,
           0.7694609134256949,
           0.7628976995977049,
           0.760234301512532,
           0.7529296599347277,
           0.7525845790422667,
           0.7499270891692716,
           0.7492906096663254,
           0.7459478712414752,
           0.7430679084285864,
           0.7287636227776347,
           0.7273895409126065,
           0.7272037443046723,
           0.7259618450753214,
           0.7237011623768792,
           0.7203769810623794,
           0.719613148392441,
           0.7194444973282953,
           0.7073305320873101,
           0.7067228852649029,
           0.7056144941878523,
           0.7052937752566245,
           0.7047106112458703,
           0.7022791722790664,
           0.6919220190399173,
           0.6852237319155677,
           0.680475774769863,
           0.6785526112335938,
           0.6754868613862659,
           0.6686816078394434,
           0.6566712084141185,
           0.6494612399827436,
           0.6447038498633826,
           0.6340594661841712,
           0.6098552115481206,
           0.5919883236722596,
           0.5605705791558694,
           0.5562421895492615,
           0.5529512173459364,
           0.5341443390452245,
           0.5300754339813925,
           0.5160624825506913,
           0.49438725290445645,
           0.48849346679357053,
           0.487574621052084,
           0.47722501020838465,
           0.47034196946362977,
           0.4073248141489321,
           0.3981875558359556,
           0.3960722754876462,
           0.39269058874523183,
           0.35543659955048523,
           0.3535086856982557,
           0.3222997152658496,
           0.09180842541679884,
           0.013691394917523823,
           0.0073247757584612265,
           -0.022766170878310097,
           -0.033146100888478636,
           -0.05378348768238255,
           -0.182671949031061,
           -0.21190020118132483,
           -0.2440872743000047,
           -0.2938875205530327,
           -0.4169703533220219,
           -0.5585983235077948,
           -0.8377787305375594
          ],
          "coloraxis": "coloraxis",
          "pattern": {
           "shape": ""
          }
         },
         "name": "",
         "offsetgroup": "",
         "orientation": "h",
         "showlegend": false,
         "text": [
          0.9507914212398554,
          0.9339208578064873,
          0.9272118724785114,
          0.9167968925959153,
          0.9068950615783126,
          0.9063662344010415,
          0.9051241247521803,
          0.9038763232239173,
          0.9015410096495311,
          0.8983635697589357,
          0.8945555747788675,
          0.8935419413013204,
          0.8927932654878822,
          0.8920689872633325,
          0.8910639017599458,
          0.8905062849858123,
          0.8852294281227854,
          0.884992473123782,
          0.88488671865064,
          0.8844170771451848,
          0.8794934179262459,
          0.8766252878514146,
          0.8762179083990213,
          0.8761909735206703,
          0.875535807157502,
          0.8745895433526244,
          0.8698854818575612,
          0.8632946157046814,
          0.8625575550440282,
          0.8613062747909589,
          0.8596327886112768,
          0.8580467906090526,
          0.8565143032292666,
          0.8553824777974587,
          0.8553538114066035,
          0.8535935451917374,
          0.8522148036054422,
          0.8520081254476762,
          0.8519800029188321,
          0.8475686238091809,
          0.8462027906603989,
          0.8374010518402409,
          0.8358705297768914,
          0.8356153462460878,
          0.8339419917092534,
          0.8339306125982677,
          0.8301661051761884,
          0.8237442700051638,
          0.8234110147205985,
          0.822355116989376,
          0.8217404915558479,
          0.8200365200380353,
          0.8192465916488196,
          0.8163985645556643,
          0.8130641526533784,
          0.8130049567417627,
          0.8129451243914867,
          0.8055223145144278,
          0.799549077945056,
          0.7921536050560182,
          0.7913068672024384,
          0.7909187638353391,
          0.7844982250517637,
          0.783857002858784,
          0.7694609134256949,
          0.7628976995977049,
          0.760234301512532,
          0.7529296599347277,
          0.7525845790422667,
          0.7499270891692716,
          0.7492906096663254,
          0.7459478712414752,
          0.7430679084285864,
          0.7287636227776347,
          0.7273895409126065,
          0.7272037443046723,
          0.7259618450753214,
          0.7237011623768792,
          0.7203769810623794,
          0.719613148392441,
          0.7194444973282953,
          0.7073305320873101,
          0.7067228852649029,
          0.7056144941878523,
          0.7052937752566245,
          0.7047106112458703,
          0.7022791722790664,
          0.6919220190399173,
          0.6852237319155677,
          0.680475774769863,
          0.6785526112335938,
          0.6754868613862659,
          0.6686816078394434,
          0.6566712084141185,
          0.6494612399827436,
          0.6447038498633826,
          0.6340594661841712,
          0.6098552115481206,
          0.5919883236722596,
          0.5605705791558694,
          0.5562421895492615,
          0.5529512173459364,
          0.5341443390452245,
          0.5300754339813925,
          0.5160624825506913,
          0.49438725290445645,
          0.48849346679357053,
          0.487574621052084,
          0.47722501020838465,
          0.47034196946362977,
          0.4073248141489321,
          0.3981875558359556,
          0.3960722754876462,
          0.39269058874523183,
          0.35543659955048523,
          0.3535086856982557,
          0.3222997152658496,
          0.09180842541679884,
          0.013691394917523823,
          0.0073247757584612265,
          -0.022766170878310097,
          -0.033146100888478636,
          -0.05378348768238255,
          -0.182671949031061,
          -0.21190020118132483,
          -0.2440872743000047,
          -0.2938875205530327,
          -0.4169703533220219,
          -0.5585983235077948,
          -0.8377787305375594
         ],
         "textposition": "outside",
         "texttemplate": "%{text:.2f}",
         "type": "bar",
         "x": [
          0.9507914212398554,
          0.9339208578064873,
          0.9272118724785114,
          0.9167968925959153,
          0.9068950615783126,
          0.9063662344010415,
          0.9051241247521803,
          0.9038763232239173,
          0.9015410096495311,
          0.8983635697589357,
          0.8945555747788675,
          0.8935419413013204,
          0.8927932654878822,
          0.8920689872633325,
          0.8910639017599458,
          0.8905062849858123,
          0.8852294281227854,
          0.884992473123782,
          0.88488671865064,
          0.8844170771451848,
          0.8794934179262459,
          0.8766252878514146,
          0.8762179083990213,
          0.8761909735206703,
          0.875535807157502,
          0.8745895433526244,
          0.8698854818575612,
          0.8632946157046814,
          0.8625575550440282,
          0.8613062747909589,
          0.8596327886112768,
          0.8580467906090526,
          0.8565143032292666,
          0.8553824777974587,
          0.8553538114066035,
          0.8535935451917374,
          0.8522148036054422,
          0.8520081254476762,
          0.8519800029188321,
          0.8475686238091809,
          0.8462027906603989,
          0.8374010518402409,
          0.8358705297768914,
          0.8356153462460878,
          0.8339419917092534,
          0.8339306125982677,
          0.8301661051761884,
          0.8237442700051638,
          0.8234110147205985,
          0.822355116989376,
          0.8217404915558479,
          0.8200365200380353,
          0.8192465916488196,
          0.8163985645556643,
          0.8130641526533784,
          0.8130049567417627,
          0.8129451243914867,
          0.8055223145144278,
          0.799549077945056,
          0.7921536050560182,
          0.7913068672024384,
          0.7909187638353391,
          0.7844982250517637,
          0.783857002858784,
          0.7694609134256949,
          0.7628976995977049,
          0.760234301512532,
          0.7529296599347277,
          0.7525845790422667,
          0.7499270891692716,
          0.7492906096663254,
          0.7459478712414752,
          0.7430679084285864,
          0.7287636227776347,
          0.7273895409126065,
          0.7272037443046723,
          0.7259618450753214,
          0.7237011623768792,
          0.7203769810623794,
          0.719613148392441,
          0.7194444973282953,
          0.7073305320873101,
          0.7067228852649029,
          0.7056144941878523,
          0.7052937752566245,
          0.7047106112458703,
          0.7022791722790664,
          0.6919220190399173,
          0.6852237319155677,
          0.680475774769863,
          0.6785526112335938,
          0.6754868613862659,
          0.6686816078394434,
          0.6566712084141185,
          0.6494612399827436,
          0.6447038498633826,
          0.6340594661841712,
          0.6098552115481206,
          0.5919883236722596,
          0.5605705791558694,
          0.5562421895492615,
          0.5529512173459364,
          0.5341443390452245,
          0.5300754339813925,
          0.5160624825506913,
          0.49438725290445645,
          0.48849346679357053,
          0.487574621052084,
          0.47722501020838465,
          0.47034196946362977,
          0.4073248141489321,
          0.3981875558359556,
          0.3960722754876462,
          0.39269058874523183,
          0.35543659955048523,
          0.3535086856982557,
          0.3222997152658496,
          0.09180842541679884,
          0.013691394917523823,
          0.0073247757584612265,
          -0.022766170878310097,
          -0.033146100888478636,
          -0.05378348768238255,
          -0.182671949031061,
          -0.21190020118132483,
          -0.2440872743000047,
          -0.2938875205530327,
          -0.4169703533220219,
          -0.5585983235077948,
          -0.8377787305375594
         ],
         "xaxis": "x",
         "y": [
          "DOT-USD_close",
          "T-USD_close",
          "LOKA-USD_close",
          "HBAR-USD_close",
          "ETH-USD_close",
          "COTI-USD_close",
          "LOOM-USD_close",
          "KSM-USD_close",
          "FET-USD_close",
          "LTC-USD_close",
          "ALGO-USD_close",
          "ICX-USD_close",
          "ENJ-USD_close",
          "VOXEL-USD_close",
          "ZEC-USD_close",
          "XLM-USD_close",
          "ANKR-USD_close",
          "BAT-USD_close",
          "RAD-USD_close",
          "LINK-USD_close",
          "STORJ-USD_close",
          "ZIL-USD_close",
          "OCEAN-USD_close",
          "LTO-USD_close",
          "ZEN-USD_close",
          "MKR-USD_close",
          "ADA-USD_close",
          "REN-USD_close",
          "BNT-USD_close",
          "THETA-USD_close",
          "BNB-USD_close",
          "EGLD-USD_close",
          "XRP-USD_close",
          "ZRX-USD_close",
          "QTUM-USD_close",
          "VET-USD_close",
          "RVN-USD_close",
          "KAVA-USD_close",
          "ATOM-USD_close",
          "API3-USD_close",
          "CHZ-USD_close",
          "BOSON-USD_close",
          "AUDIO-USD_close",
          "WAVES-USD_close",
          "1INCH-USD_close",
          "STMX-USD_close",
          "ASTR-USD_close",
          "TFUEL-USD_close",
          "VTHO-USD_close",
          "XNO-USD_close",
          "CTSI-USD_close",
          "CLV-USD_close",
          "CELR-USD_close",
          "AAVE-USD_close",
          "VITE-USD_close",
          "LPT-USD_close",
          "SUSHI-USD_close",
          "SKL-USD_close",
          "BICO-USD_close",
          "CELO-USD_close",
          "DASH-USD_close",
          "PROM-USD_close",
          "XTZ-USD_close",
          "WAXP-USD_close",
          "ANT-USD_close",
          "SNX-USD_close",
          "FLOW-USD_close",
          "APT-USD_close",
          "ENS-USD_close",
          "NEO-USD_close",
          "IMX-USD_close",
          "DOGE-USD_close",
          "DGB-USD_close",
          "NMR-USD_close",
          "ARB-USD_close",
          "REQ-USD_close",
          "ALPINE-USD_close",
          "BCH-USD_close",
          "FLOKI-USD_close",
          "MASK-USD_close",
          "FIL-USD_close",
          "CUDOS-USD_close",
          "FTM-USD_close",
          "MATIC-USD_close",
          "ETC-USD_close",
          "GAL-USD_close",
          "YFI-USD_close",
          "SYS-USD_close",
          "SOL-USD_close",
          "MANA-USD_close",
          "CRV-USD_close",
          "BAND-USD_close",
          "LRC-USD_close",
          "QNT-USD_close",
          "OXT-USD_close",
          "ILV-USD_close",
          "AVAX-USD_close",
          "ROSE-USD_close",
          "AXS-USD_close",
          "RNDR-USD_close",
          "SHIB-USD_close",
          "ONT-USD_close",
          "NEAR-USD_close",
          "ACH-USD_close",
          "EOS-USD_close",
          "KDA-USD_close",
          "LDO-USD_close",
          "MXC-USD_close",
          "ICP-USD_close",
          "FLUX-USD_close",
          "LAZIO-USD_close",
          "SAND-USD_close",
          "PAXG-USD_close",
          "SLP-USD_close",
          "GALA-USD_close",
          "KNC-USD_close",
          "TLM-USD_close",
          "APE-USD_close",
          "ONE-USD_close",
          "POLYX-USD_close",
          "GTC-USD_close",
          "PORTO-USD_close",
          "UNI-USD_close",
          "DAI-USD_close",
          "USDC-USD_close",
          "GRT-USD_close",
          "USDT-USD_close",
          "OP-USD_close",
          "SANTOS-USD_close",
          "COMP-USD_close"
         ],
         "yaxis": "y"
        }
       ],
       "layout": {
        "barmode": "relative",
        "coloraxis": {
         "colorbar": {
          "title": {
           "text": "Correlation"
          }
         },
         "colorscale": [
          [
           0,
           "rgb(103,0,31)"
          ],
          [
           0.1,
           "rgb(178,24,43)"
          ],
          [
           0.2,
           "rgb(214,96,77)"
          ],
          [
           0.3,
           "rgb(244,165,130)"
          ],
          [
           0.4,
           "rgb(253,219,199)"
          ],
          [
           0.5,
           "rgb(247,247,247)"
          ],
          [
           0.6,
           "rgb(209,229,240)"
          ],
          [
           0.7,
           "rgb(146,197,222)"
          ],
          [
           0.8,
           "rgb(67,147,195)"
          ],
          [
           0.9,
           "rgb(33,102,172)"
          ],
          [
           1,
           "rgb(5,48,97)"
          ]
         ]
        },
        "height": 2000,
        "legend": {
         "tracegroupgap": 0
        },
        "margin": {
         "t": 60
        },
        "template": {
         "data": {
          "bar": [
           {
            "error_x": {
             "color": "#2a3f5f"
            },
            "error_y": {
             "color": "#2a3f5f"
            },
            "marker": {
             "line": {
              "color": "white",
              "width": 0.5
             },
             "pattern": {
              "fillmode": "overlay",
              "size": 10,
              "solidity": 0.2
             }
            },
            "type": "bar"
           }
          ],
          "barpolar": [
           {
            "marker": {
             "line": {
              "color": "white",
              "width": 0.5
             },
             "pattern": {
              "fillmode": "overlay",
              "size": 10,
              "solidity": 0.2
             }
            },
            "type": "barpolar"
           }
          ],
          "carpet": [
           {
            "aaxis": {
             "endlinecolor": "#2a3f5f",
             "gridcolor": "#C8D4E3",
             "linecolor": "#C8D4E3",
             "minorgridcolor": "#C8D4E3",
             "startlinecolor": "#2a3f5f"
            },
            "baxis": {
             "endlinecolor": "#2a3f5f",
             "gridcolor": "#C8D4E3",
             "linecolor": "#C8D4E3",
             "minorgridcolor": "#C8D4E3",
             "startlinecolor": "#2a3f5f"
            },
            "type": "carpet"
           }
          ],
          "choropleth": [
           {
            "colorbar": {
             "outlinewidth": 0,
             "ticks": ""
            },
            "type": "choropleth"
           }
          ],
          "contour": [
           {
            "colorbar": {
             "outlinewidth": 0,
             "ticks": ""
            },
            "colorscale": [
             [
              0,
              "#0d0887"
             ],
             [
              0.1111111111111111,
              "#46039f"
             ],
             [
              0.2222222222222222,
              "#7201a8"
             ],
             [
              0.3333333333333333,
              "#9c179e"
             ],
             [
              0.4444444444444444,
              "#bd3786"
             ],
             [
              0.5555555555555556,
              "#d8576b"
             ],
             [
              0.6666666666666666,
              "#ed7953"
             ],
             [
              0.7777777777777778,
              "#fb9f3a"
             ],
             [
              0.8888888888888888,
              "#fdca26"
             ],
             [
              1,
              "#f0f921"
             ]
            ],
            "type": "contour"
           }
          ],
          "contourcarpet": [
           {
            "colorbar": {
             "outlinewidth": 0,
             "ticks": ""
            },
            "type": "contourcarpet"
           }
          ],
          "heatmap": [
           {
            "colorbar": {
             "outlinewidth": 0,
             "ticks": ""
            },
            "colorscale": [
             [
              0,
              "#0d0887"
             ],
             [
              0.1111111111111111,
              "#46039f"
             ],
             [
              0.2222222222222222,
              "#7201a8"
             ],
             [
              0.3333333333333333,
              "#9c179e"
             ],
             [
              0.4444444444444444,
              "#bd3786"
             ],
             [
              0.5555555555555556,
              "#d8576b"
             ],
             [
              0.6666666666666666,
              "#ed7953"
             ],
             [
              0.7777777777777778,
              "#fb9f3a"
             ],
             [
              0.8888888888888888,
              "#fdca26"
             ],
             [
              1,
              "#f0f921"
             ]
            ],
            "type": "heatmap"
           }
          ],
          "heatmapgl": [
           {
            "colorbar": {
             "outlinewidth": 0,
             "ticks": ""
            },
            "colorscale": [
             [
              0,
              "#0d0887"
             ],
             [
              0.1111111111111111,
              "#46039f"
             ],
             [
              0.2222222222222222,
              "#7201a8"
             ],
             [
              0.3333333333333333,
              "#9c179e"
             ],
             [
              0.4444444444444444,
              "#bd3786"
             ],
             [
              0.5555555555555556,
              "#d8576b"
             ],
             [
              0.6666666666666666,
              "#ed7953"
             ],
             [
              0.7777777777777778,
              "#fb9f3a"
             ],
             [
              0.8888888888888888,
              "#fdca26"
             ],
             [
              1,
              "#f0f921"
             ]
            ],
            "type": "heatmapgl"
           }
          ],
          "histogram": [
           {
            "marker": {
             "pattern": {
              "fillmode": "overlay",
              "size": 10,
              "solidity": 0.2
             }
            },
            "type": "histogram"
           }
          ],
          "histogram2d": [
           {
            "colorbar": {
             "outlinewidth": 0,
             "ticks": ""
            },
            "colorscale": [
             [
              0,
              "#0d0887"
             ],
             [
              0.1111111111111111,
              "#46039f"
             ],
             [
              0.2222222222222222,
              "#7201a8"
             ],
             [
              0.3333333333333333,
              "#9c179e"
             ],
             [
              0.4444444444444444,
              "#bd3786"
             ],
             [
              0.5555555555555556,
              "#d8576b"
             ],
             [
              0.6666666666666666,
              "#ed7953"
             ],
             [
              0.7777777777777778,
              "#fb9f3a"
             ],
             [
              0.8888888888888888,
              "#fdca26"
             ],
             [
              1,
              "#f0f921"
             ]
            ],
            "type": "histogram2d"
           }
          ],
          "histogram2dcontour": [
           {
            "colorbar": {
             "outlinewidth": 0,
             "ticks": ""
            },
            "colorscale": [
             [
              0,
              "#0d0887"
             ],
             [
              0.1111111111111111,
              "#46039f"
             ],
             [
              0.2222222222222222,
              "#7201a8"
             ],
             [
              0.3333333333333333,
              "#9c179e"
             ],
             [
              0.4444444444444444,
              "#bd3786"
             ],
             [
              0.5555555555555556,
              "#d8576b"
             ],
             [
              0.6666666666666666,
              "#ed7953"
             ],
             [
              0.7777777777777778,
              "#fb9f3a"
             ],
             [
              0.8888888888888888,
              "#fdca26"
             ],
             [
              1,
              "#f0f921"
             ]
            ],
            "type": "histogram2dcontour"
           }
          ],
          "mesh3d": [
           {
            "colorbar": {
             "outlinewidth": 0,
             "ticks": ""
            },
            "type": "mesh3d"
           }
          ],
          "parcoords": [
           {
            "line": {
             "colorbar": {
              "outlinewidth": 0,
              "ticks": ""
             }
            },
            "type": "parcoords"
           }
          ],
          "pie": [
           {
            "automargin": true,
            "type": "pie"
           }
          ],
          "scatter": [
           {
            "fillpattern": {
             "fillmode": "overlay",
             "size": 10,
             "solidity": 0.2
            },
            "type": "scatter"
           }
          ],
          "scatter3d": [
           {
            "line": {
             "colorbar": {
              "outlinewidth": 0,
              "ticks": ""
             }
            },
            "marker": {
             "colorbar": {
              "outlinewidth": 0,
              "ticks": ""
             }
            },
            "type": "scatter3d"
           }
          ],
          "scattercarpet": [
           {
            "marker": {
             "colorbar": {
              "outlinewidth": 0,
              "ticks": ""
             }
            },
            "type": "scattercarpet"
           }
          ],
          "scattergeo": [
           {
            "marker": {
             "colorbar": {
              "outlinewidth": 0,
              "ticks": ""
             }
            },
            "type": "scattergeo"
           }
          ],
          "scattergl": [
           {
            "marker": {
             "colorbar": {
              "outlinewidth": 0,
              "ticks": ""
             }
            },
            "type": "scattergl"
           }
          ],
          "scattermapbox": [
           {
            "marker": {
             "colorbar": {
              "outlinewidth": 0,
              "ticks": ""
             }
            },
            "type": "scattermapbox"
           }
          ],
          "scatterpolar": [
           {
            "marker": {
             "colorbar": {
              "outlinewidth": 0,
              "ticks": ""
             }
            },
            "type": "scatterpolar"
           }
          ],
          "scatterpolargl": [
           {
            "marker": {
             "colorbar": {
              "outlinewidth": 0,
              "ticks": ""
             }
            },
            "type": "scatterpolargl"
           }
          ],
          "scatterternary": [
           {
            "marker": {
             "colorbar": {
              "outlinewidth": 0,
              "ticks": ""
             }
            },
            "type": "scatterternary"
           }
          ],
          "surface": [
           {
            "colorbar": {
             "outlinewidth": 0,
             "ticks": ""
            },
            "colorscale": [
             [
              0,
              "#0d0887"
             ],
             [
              0.1111111111111111,
              "#46039f"
             ],
             [
              0.2222222222222222,
              "#7201a8"
             ],
             [
              0.3333333333333333,
              "#9c179e"
             ],
             [
              0.4444444444444444,
              "#bd3786"
             ],
             [
              0.5555555555555556,
              "#d8576b"
             ],
             [
              0.6666666666666666,
              "#ed7953"
             ],
             [
              0.7777777777777778,
              "#fb9f3a"
             ],
             [
              0.8888888888888888,
              "#fdca26"
             ],
             [
              1,
              "#f0f921"
             ]
            ],
            "type": "surface"
           }
          ],
          "table": [
           {
            "cells": {
             "fill": {
              "color": "#EBF0F8"
             },
             "line": {
              "color": "white"
             }
            },
            "header": {
             "fill": {
              "color": "#C8D4E3"
             },
             "line": {
              "color": "white"
             }
            },
            "type": "table"
           }
          ]
         },
         "layout": {
          "annotationdefaults": {
           "arrowcolor": "#2a3f5f",
           "arrowhead": 0,
           "arrowwidth": 1
          },
          "autotypenumbers": "strict",
          "coloraxis": {
           "colorbar": {
            "outlinewidth": 0,
            "ticks": ""
           }
          },
          "colorscale": {
           "diverging": [
            [
             0,
             "#8e0152"
            ],
            [
             0.1,
             "#c51b7d"
            ],
            [
             0.2,
             "#de77ae"
            ],
            [
             0.3,
             "#f1b6da"
            ],
            [
             0.4,
             "#fde0ef"
            ],
            [
             0.5,
             "#f7f7f7"
            ],
            [
             0.6,
             "#e6f5d0"
            ],
            [
             0.7,
             "#b8e186"
            ],
            [
             0.8,
             "#7fbc41"
            ],
            [
             0.9,
             "#4d9221"
            ],
            [
             1,
             "#276419"
            ]
           ],
           "sequential": [
            [
             0,
             "#0d0887"
            ],
            [
             0.1111111111111111,
             "#46039f"
            ],
            [
             0.2222222222222222,
             "#7201a8"
            ],
            [
             0.3333333333333333,
             "#9c179e"
            ],
            [
             0.4444444444444444,
             "#bd3786"
            ],
            [
             0.5555555555555556,
             "#d8576b"
            ],
            [
             0.6666666666666666,
             "#ed7953"
            ],
            [
             0.7777777777777778,
             "#fb9f3a"
            ],
            [
             0.8888888888888888,
             "#fdca26"
            ],
            [
             1,
             "#f0f921"
            ]
           ],
           "sequentialminus": [
            [
             0,
             "#0d0887"
            ],
            [
             0.1111111111111111,
             "#46039f"
            ],
            [
             0.2222222222222222,
             "#7201a8"
            ],
            [
             0.3333333333333333,
             "#9c179e"
            ],
            [
             0.4444444444444444,
             "#bd3786"
            ],
            [
             0.5555555555555556,
             "#d8576b"
            ],
            [
             0.6666666666666666,
             "#ed7953"
            ],
            [
             0.7777777777777778,
             "#fb9f3a"
            ],
            [
             0.8888888888888888,
             "#fdca26"
            ],
            [
             1,
             "#f0f921"
            ]
           ]
          },
          "colorway": [
           "#636efa",
           "#EF553B",
           "#00cc96",
           "#ab63fa",
           "#FFA15A",
           "#19d3f3",
           "#FF6692",
           "#B6E880",
           "#FF97FF",
           "#FECB52"
          ],
          "font": {
           "color": "#2a3f5f"
          },
          "geo": {
           "bgcolor": "white",
           "lakecolor": "white",
           "landcolor": "white",
           "showlakes": true,
           "showland": true,
           "subunitcolor": "#C8D4E3"
          },
          "hoverlabel": {
           "align": "left"
          },
          "hovermode": "closest",
          "mapbox": {
           "style": "light"
          },
          "paper_bgcolor": "white",
          "plot_bgcolor": "white",
          "polar": {
           "angularaxis": {
            "gridcolor": "#EBF0F8",
            "linecolor": "#EBF0F8",
            "ticks": ""
           },
           "bgcolor": "white",
           "radialaxis": {
            "gridcolor": "#EBF0F8",
            "linecolor": "#EBF0F8",
            "ticks": ""
           }
          },
          "scene": {
           "xaxis": {
            "backgroundcolor": "white",
            "gridcolor": "#DFE8F3",
            "gridwidth": 2,
            "linecolor": "#EBF0F8",
            "showbackground": true,
            "ticks": "",
            "zerolinecolor": "#EBF0F8"
           },
           "yaxis": {
            "backgroundcolor": "white",
            "gridcolor": "#DFE8F3",
            "gridwidth": 2,
            "linecolor": "#EBF0F8",
            "showbackground": true,
            "ticks": "",
            "zerolinecolor": "#EBF0F8"
           },
           "zaxis": {
            "backgroundcolor": "white",
            "gridcolor": "#DFE8F3",
            "gridwidth": 2,
            "linecolor": "#EBF0F8",
            "showbackground": true,
            "ticks": "",
            "zerolinecolor": "#EBF0F8"
           }
          },
          "shapedefaults": {
           "line": {
            "color": "#2a3f5f"
           }
          },
          "ternary": {
           "aaxis": {
            "gridcolor": "#DFE8F3",
            "linecolor": "#A2B1C6",
            "ticks": ""
           },
           "baxis": {
            "gridcolor": "#DFE8F3",
            "linecolor": "#A2B1C6",
            "ticks": ""
           },
           "bgcolor": "white",
           "caxis": {
            "gridcolor": "#DFE8F3",
            "linecolor": "#A2B1C6",
            "ticks": ""
           }
          },
          "title": {
           "x": 0.05
          },
          "xaxis": {
           "automargin": true,
           "gridcolor": "#EBF0F8",
           "linecolor": "#EBF0F8",
           "ticks": "",
           "title": {
            "standoff": 15
           },
           "zerolinecolor": "#EBF0F8",
           "zerolinewidth": 2
          },
          "yaxis": {
           "automargin": true,
           "gridcolor": "#EBF0F8",
           "linecolor": "#EBF0F8",
           "ticks": "",
           "title": {
            "standoff": 15
           },
           "zerolinecolor": "#EBF0F8",
           "zerolinewidth": 2
          }
         }
        },
        "title": {
         "text": "Correlation of Cryptocurrencies with BTC Close Prices"
        },
        "width": 800,
        "xaxis": {
         "anchor": "y",
         "domain": [
          0,
          1
         ],
         "title": {
          "text": "Correlation with BTC Close Price"
         }
        },
        "yaxis": {
         "anchor": "x",
         "domain": [
          0,
          1
         ],
         "title": {
          "text": "Cryptocurrency"
         }
        }
       }
      }
     },
     "metadata": {},
     "output_type": "display_data"
    },
    {
     "data": {
      "text/plain": [
       "['DOT-USD_close',\n",
       " 'T-USD_close',\n",
       " 'LOKA-USD_close',\n",
       " 'HBAR-USD_close',\n",
       " 'ETH-USD_close',\n",
       " 'COTI-USD_close',\n",
       " 'LOOM-USD_close',\n",
       " 'KSM-USD_close',\n",
       " 'FET-USD_close',\n",
       " 'LTC-USD_close',\n",
       " 'ALGO-USD_close',\n",
       " 'ICX-USD_close',\n",
       " 'ENJ-USD_close',\n",
       " 'VOXEL-USD_close',\n",
       " 'ZEC-USD_close',\n",
       " 'XLM-USD_close',\n",
       " 'ANKR-USD_close',\n",
       " 'BAT-USD_close',\n",
       " 'RAD-USD_close',\n",
       " 'LINK-USD_close',\n",
       " 'STORJ-USD_close',\n",
       " 'ZIL-USD_close',\n",
       " 'OCEAN-USD_close',\n",
       " 'LTO-USD_close',\n",
       " 'ZEN-USD_close',\n",
       " 'MKR-USD_close',\n",
       " 'ADA-USD_close',\n",
       " 'REN-USD_close',\n",
       " 'BNT-USD_close',\n",
       " 'THETA-USD_close',\n",
       " 'BNB-USD_close',\n",
       " 'EGLD-USD_close',\n",
       " 'XRP-USD_close',\n",
       " 'ZRX-USD_close',\n",
       " 'QTUM-USD_close',\n",
       " 'VET-USD_close',\n",
       " 'RVN-USD_close',\n",
       " 'KAVA-USD_close',\n",
       " 'ATOM-USD_close']"
      ]
     },
     "execution_count": 16,
     "metadata": {},
     "output_type": "execute_result"
    }
   ],
   "source": [
    "# Initialize an empty list to hold data for all tickers\n",
    "all_data_2 = []\n",
    "\n",
    "# Loop through each ticker symbol in the list\n",
    "for i in binanceUS_cryptoUSDT_pairs:\n",
    "    # Fetch the ticker data\n",
    "    ticker = yf.Ticker(i)\n",
    "    # Get historical market data, here max is used for demonstration; you can customize the period\n",
    "    data = ticker.history(start = '2019-09-07', end = '2022-11-21', interval = '1wk') #period = '1w'\n",
    "    \n",
    "    # Add a column to identify the ticker (optional)\n",
    "    data['Ticker'] = i\n",
    "    \n",
    "    # Append this data to the list\n",
    "    all_data_2.append(data)\n",
    "\n",
    "# Convert the list of DataFrames into a single DataFrame\n",
    "binanceUS_df_2 = pd.concat(all_data_2)# Initialize an empty list to hold data for all tickers\n",
    "all_data_2 = []\n",
    "\n",
    "binanceUS_df_2 = binanceUS_df_2.reset_index()\n",
    "\n",
    "# Pivot the DataFrame to make each ticker's close prices its own column\n",
    "close_prices_df_2 = binanceUS_df_2.pivot(index='Date', columns='Ticker', values='Close')\n",
    "\n",
    "# Ensure the column names are correct after pivoting\n",
    "close_prices_df_2.columns = [f'{ticker}_close' for ticker in close_prices_df_2.columns]\n",
    "close_prices_df_2\n",
    "\n",
    "# Calculate the correlation of each cryptocurrency's close prices with BTC's close prices\n",
    "binanceUS_correlation_with_btc_2 = close_prices_df_2.corrwith(BTC_df['btc_close'])\n",
    "\n",
    "# The result will be a Series where each index is a 'ticker_close' and its value is the correlation with 'BTC_close'\n",
    "binanceUS_correlation_with_btc_2 = pd.DataFrame(binanceUS_correlation_with_btc_2)\n",
    "binanceUS_correlation_with_btc_2.columns = ['correlation']\n",
    "# Reset the index and rename the new column\n",
    "binanceUS_correlation_with_btc_2.reset_index(inplace=True)\n",
    "binanceUS_correlation_with_btc_2.rename(columns={'index': 'Ticker'}, inplace=True)\n",
    "\n",
    "binanceUS_correlation_with_btc_2.head()\n",
    "\n",
    "binanceUS_correlation_with_btc_2 = binanceUS_correlation_with_btc_2.sort_values(by='correlation', ascending=False)\n",
    "\n",
    "# Interactive bar chart\n",
    "fig = px.bar(binanceUS_correlation_with_btc_2, y='Ticker', x='correlation', \n",
    "             text='correlation', orientation='h', \n",
    "             color='correlation', color_continuous_scale='RdBu',\n",
    "             labels={'correlation': 'Correlation with BTC'})\n",
    "\n",
    "# Layout enhancements\n",
    "fig.update_layout(title='Correlation of Cryptocurrencies with BTC Close Prices',\n",
    "                  xaxis_title='Correlation with BTC Close Price',\n",
    "                  yaxis_title='Cryptocurrency',\n",
    "                  coloraxis_colorbar=dict(title=\"Correlation\"),\n",
    "                  template='plotly_white',\n",
    "                  width = 800,\n",
    "                  height = 2000)\n",
    "\n",
    "# Text on bars\n",
    "fig.update_traces(texttemplate='%{text:.2f}', textposition='outside')\n",
    "\n",
    "fig.show()\n",
    "\n",
    "# Initialize the list to hold highly correlated tickers\n",
    "highly_correlated_2 = []\n",
    "\n",
    "# Iterate through the DataFrame and check each correlation value\n",
    "for index, row in binanceUS_correlation_with_btc_2.iterrows():\n",
    "    # Check if the correlation is greater than 0.80\n",
    "    if row['correlation'] > 0.85:\n",
    "        # Add the ticker name to the list\n",
    "        highly_correlated_2.append(row['Ticker'])\n",
    "\n",
    "# Display the list of highly correlated tickers\n",
    "highly_correlated_2"
   ]
  },
  {
   "cell_type": "markdown",
   "metadata": {},
   "source": [
    "### Question:\n",
    "#### Whats the correlation between the close of cryptocurrrencies offered on Binance.US USDT trading pairs since Bitcoins 2022 consolidation cycle to its breakout"
   ]
  },
  {
   "cell_type": "code",
   "execution_count": 18,
   "metadata": {},
   "outputs": [
    {
     "name": "stdout",
     "output_type": "stream",
     "text": [
      "- GRT-USD: No data found for this date range, symbol may be delisted\n",
      "- COMP-USD: No data found for this date range, symbol may be delisted\n",
      "- STG-USD: No data found for this date range, symbol may be delisted\n"
     ]
    },
    {
     "name": "stderr",
     "output_type": "stream",
     "text": [
      "C:\\Users\\Gino\\AppData\\Local\\Temp\\ipykernel_13168\\926445728.py:18: FutureWarning:\n",
      "\n",
      "The behavior of array concatenation with empty entries is deprecated. In a future version, this will no longer exclude empty items when determining the result dtype. To retain the old behavior, exclude the empty entries before the concat operation.\n",
      "\n"
     ]
    },
    {
     "data": {
      "application/vnd.plotly.v1+json": {
       "config": {
        "plotlyServerURL": "https://plot.ly"
       },
       "data": [
        {
         "alignmentgroup": "True",
         "hovertemplate": "Correlation with BTC=%{marker.color}<br>Ticker=%{y}<extra></extra>",
         "legendgroup": "",
         "marker": {
          "color": [
           0.8676477675482077,
           0.777490127512692,
           0.7562860550337451,
           0.7386253213928898,
           0.7097897508859904,
           0.705561171847001,
           0.7022236863225298,
           0.6287242265830882,
           0.5767208990549325,
           0.5579311865749793,
           0.5378467214880914,
           0.5082225825262258,
           0.4943927081108984,
           0.473956344023686,
           0.4289102080276805,
           0.42825656583809585,
           0.4202634207641126,
           0.39872111762464185,
           0.39853605759905897,
           0.3703649007381036,
           0.3533081980595865,
           0.3511211514904402,
           0.3501037900933293,
           0.3413380212716962,
           0.30780449826856293,
           0.2881016892074105,
           0.28592679500420315,
           0.28239851724331844,
           0.2317280294039875,
           0.2206088070120525,
           0.21198368476398743,
           0.18090486564771757,
           0.16095723842392995,
           0.15790825810202563,
           0.155953474847522,
           0.14691443775451862,
           0.13664019327311738,
           0.1273324878443849,
           0.11434880600766409,
           0.10584951816024167,
           0.1040298745745745,
           0.09085458565564371,
           0.08870637289066419,
           0.0577593020854874,
           0.04991471662163474,
           0.048241750182225866,
           0.03830116719866588,
           0.03569744486826278,
           0.017896909845742364,
           0.0035474163824101156,
           0.0021704145208890665,
           -0.0014480114636933135,
           -0.0028316250889723407,
           -0.005921864166221855,
           -0.008422667743440648,
           -0.013299653907955969,
           -0.037714338450939286,
           -0.04616512405127917,
           -0.05505570620657058,
           -0.05981799016578379,
           -0.06123050227338816,
           -0.07891322524912286,
           -0.0802131051415838,
           -0.08765981845201425,
           -0.08950715824607058,
           -0.09147076660062246,
           -0.09459038944272191,
           -0.10106747396831903,
           -0.10167634145214069,
           -0.10889448556339713,
           -0.11676773206638914,
           -0.1171352601965535,
           -0.12441336121014299,
           -0.12449529818682846,
           -0.13314752099998087,
           -0.13867607370223822,
           -0.13945306061751508,
           -0.14023172645236967,
           -0.14343309931462692,
           -0.14688500375649755,
           -0.15192622125312907,
           -0.1574809532235116,
           -0.16392084266532944,
           -0.16687178585109974,
           -0.17010356913670424,
           -0.17496833753351235,
           -0.1965823998456804,
           -0.20458718202980208,
           -0.20604157275435672,
           -0.20648897084423073,
           -0.2074103271677963,
           -0.21062795914706448,
           -0.2203563714204401,
           -0.22383770044160317,
           -0.22696565657401024,
           -0.2325878407694774,
           -0.23467012011658522,
           -0.23902211061509315,
           -0.24713145957200683,
           -0.24862048472505774,
           -0.2528507320702331,
           -0.255298931071052,
           -0.2569947264888243,
           -0.2627006251242837,
           -0.26459730622859595,
           -0.2660917504646312,
           -0.27062929646208594,
           -0.28775758207190805,
           -0.2884335746911474,
           -0.2898249877427616,
           -0.29039921784969874,
           -0.30643869348310115,
           -0.30653515805869475,
           -0.3075787490289557,
           -0.3079386340007012,
           -0.31479483381208867,
           -0.3166715203700716,
           -0.3334831807810508,
           -0.33593845678555395,
           -0.33918769676988875,
           -0.45041676656562213,
           -0.4586524863082075,
           -0.4616307690754026,
           -0.4731103600258086,
           -0.4983684726982516,
           -0.547584845552674,
           -0.5504433089619373,
           -0.5992553654209979,
           -0.646975320220421
          ],
          "coloraxis": "coloraxis",
          "pattern": {
           "shape": ""
          }
         },
         "name": "",
         "offsetgroup": "",
         "orientation": "h",
         "showlegend": false,
         "text": [
          0.8676477675482077,
          0.777490127512692,
          0.7562860550337451,
          0.7386253213928898,
          0.7097897508859904,
          0.705561171847001,
          0.7022236863225298,
          0.6287242265830882,
          0.5767208990549325,
          0.5579311865749793,
          0.5378467214880914,
          0.5082225825262258,
          0.4943927081108984,
          0.473956344023686,
          0.4289102080276805,
          0.42825656583809585,
          0.4202634207641126,
          0.39872111762464185,
          0.39853605759905897,
          0.3703649007381036,
          0.3533081980595865,
          0.3511211514904402,
          0.3501037900933293,
          0.3413380212716962,
          0.30780449826856293,
          0.2881016892074105,
          0.28592679500420315,
          0.28239851724331844,
          0.2317280294039875,
          0.2206088070120525,
          0.21198368476398743,
          0.18090486564771757,
          0.16095723842392995,
          0.15790825810202563,
          0.155953474847522,
          0.14691443775451862,
          0.13664019327311738,
          0.1273324878443849,
          0.11434880600766409,
          0.10584951816024167,
          0.1040298745745745,
          0.09085458565564371,
          0.08870637289066419,
          0.0577593020854874,
          0.04991471662163474,
          0.048241750182225866,
          0.03830116719866588,
          0.03569744486826278,
          0.017896909845742364,
          0.0035474163824101156,
          0.0021704145208890665,
          -0.0014480114636933135,
          -0.0028316250889723407,
          -0.005921864166221855,
          -0.008422667743440648,
          -0.013299653907955969,
          -0.037714338450939286,
          -0.04616512405127917,
          -0.05505570620657058,
          -0.05981799016578379,
          -0.06123050227338816,
          -0.07891322524912286,
          -0.0802131051415838,
          -0.08765981845201425,
          -0.08950715824607058,
          -0.09147076660062246,
          -0.09459038944272191,
          -0.10106747396831903,
          -0.10167634145214069,
          -0.10889448556339713,
          -0.11676773206638914,
          -0.1171352601965535,
          -0.12441336121014299,
          -0.12449529818682846,
          -0.13314752099998087,
          -0.13867607370223822,
          -0.13945306061751508,
          -0.14023172645236967,
          -0.14343309931462692,
          -0.14688500375649755,
          -0.15192622125312907,
          -0.1574809532235116,
          -0.16392084266532944,
          -0.16687178585109974,
          -0.17010356913670424,
          -0.17496833753351235,
          -0.1965823998456804,
          -0.20458718202980208,
          -0.20604157275435672,
          -0.20648897084423073,
          -0.2074103271677963,
          -0.21062795914706448,
          -0.2203563714204401,
          -0.22383770044160317,
          -0.22696565657401024,
          -0.2325878407694774,
          -0.23467012011658522,
          -0.23902211061509315,
          -0.24713145957200683,
          -0.24862048472505774,
          -0.2528507320702331,
          -0.255298931071052,
          -0.2569947264888243,
          -0.2627006251242837,
          -0.26459730622859595,
          -0.2660917504646312,
          -0.27062929646208594,
          -0.28775758207190805,
          -0.2884335746911474,
          -0.2898249877427616,
          -0.29039921784969874,
          -0.30643869348310115,
          -0.30653515805869475,
          -0.3075787490289557,
          -0.3079386340007012,
          -0.31479483381208867,
          -0.3166715203700716,
          -0.3334831807810508,
          -0.33593845678555395,
          -0.33918769676988875,
          -0.45041676656562213,
          -0.4586524863082075,
          -0.4616307690754026,
          -0.4731103600258086,
          -0.4983684726982516,
          -0.547584845552674,
          -0.5504433089619373,
          -0.5992553654209979,
          -0.646975320220421
         ],
         "textposition": "outside",
         "texttemplate": "%{text:.2f}",
         "type": "bar",
         "x": [
          0.8676477675482077,
          0.777490127512692,
          0.7562860550337451,
          0.7386253213928898,
          0.7097897508859904,
          0.705561171847001,
          0.7022236863225298,
          0.6287242265830882,
          0.5767208990549325,
          0.5579311865749793,
          0.5378467214880914,
          0.5082225825262258,
          0.4943927081108984,
          0.473956344023686,
          0.4289102080276805,
          0.42825656583809585,
          0.4202634207641126,
          0.39872111762464185,
          0.39853605759905897,
          0.3703649007381036,
          0.3533081980595865,
          0.3511211514904402,
          0.3501037900933293,
          0.3413380212716962,
          0.30780449826856293,
          0.2881016892074105,
          0.28592679500420315,
          0.28239851724331844,
          0.2317280294039875,
          0.2206088070120525,
          0.21198368476398743,
          0.18090486564771757,
          0.16095723842392995,
          0.15790825810202563,
          0.155953474847522,
          0.14691443775451862,
          0.13664019327311738,
          0.1273324878443849,
          0.11434880600766409,
          0.10584951816024167,
          0.1040298745745745,
          0.09085458565564371,
          0.08870637289066419,
          0.0577593020854874,
          0.04991471662163474,
          0.048241750182225866,
          0.03830116719866588,
          0.03569744486826278,
          0.017896909845742364,
          0.0035474163824101156,
          0.0021704145208890665,
          -0.0014480114636933135,
          -0.0028316250889723407,
          -0.005921864166221855,
          -0.008422667743440648,
          -0.013299653907955969,
          -0.037714338450939286,
          -0.04616512405127917,
          -0.05505570620657058,
          -0.05981799016578379,
          -0.06123050227338816,
          -0.07891322524912286,
          -0.0802131051415838,
          -0.08765981845201425,
          -0.08950715824607058,
          -0.09147076660062246,
          -0.09459038944272191,
          -0.10106747396831903,
          -0.10167634145214069,
          -0.10889448556339713,
          -0.11676773206638914,
          -0.1171352601965535,
          -0.12441336121014299,
          -0.12449529818682846,
          -0.13314752099998087,
          -0.13867607370223822,
          -0.13945306061751508,
          -0.14023172645236967,
          -0.14343309931462692,
          -0.14688500375649755,
          -0.15192622125312907,
          -0.1574809532235116,
          -0.16392084266532944,
          -0.16687178585109974,
          -0.17010356913670424,
          -0.17496833753351235,
          -0.1965823998456804,
          -0.20458718202980208,
          -0.20604157275435672,
          -0.20648897084423073,
          -0.2074103271677963,
          -0.21062795914706448,
          -0.2203563714204401,
          -0.22383770044160317,
          -0.22696565657401024,
          -0.2325878407694774,
          -0.23467012011658522,
          -0.23902211061509315,
          -0.24713145957200683,
          -0.24862048472505774,
          -0.2528507320702331,
          -0.255298931071052,
          -0.2569947264888243,
          -0.2627006251242837,
          -0.26459730622859595,
          -0.2660917504646312,
          -0.27062929646208594,
          -0.28775758207190805,
          -0.2884335746911474,
          -0.2898249877427616,
          -0.29039921784969874,
          -0.30643869348310115,
          -0.30653515805869475,
          -0.3075787490289557,
          -0.3079386340007012,
          -0.31479483381208867,
          -0.3166715203700716,
          -0.3334831807810508,
          -0.33593845678555395,
          -0.33918769676988875,
          -0.45041676656562213,
          -0.4586524863082075,
          -0.4616307690754026,
          -0.4731103600258086,
          -0.4983684726982516,
          -0.547584845552674,
          -0.5504433089619373,
          -0.5992553654209979,
          -0.646975320220421
         ],
         "xaxis": "x",
         "y": [
          "ETH-USD_close",
          "RNDR-USD_close",
          "IMX-USD_close",
          "PAXG-USD_close",
          "BCH-USD_close",
          "ANT-USD_close",
          "OCEAN-USD_close",
          "XRP-USD_close",
          "FLOKI-USD_close",
          "FET-USD_close",
          "ACH-USD_close",
          "CTSI-USD_close",
          "MKR-USD_close",
          "LTC-USD_close",
          "ASTR-USD_close",
          "ARB-USD_close",
          "APE-USD_close",
          "NEO-USD_close",
          "XLM-USD_close",
          "LDO-USD_close",
          "BNT-USD_close",
          "IOTA-USD_close",
          "OP-USD_close",
          "CELR-USD_close",
          "FTM-USD_close",
          "LINK-USD_close",
          "ICX-USD_close",
          "ONE-USD_close",
          "LOOM-USD_close",
          "QTUM-USD_close",
          "SNX-USD_close",
          "GAL-USD_close",
          "HBAR-USD_close",
          "ONT-USD_close",
          "AAVE-USD_close",
          "T-USD_close",
          "AUDIO-USD_close",
          "ZRX-USD_close",
          "ANKR-USD_close",
          "SOL-USD_close",
          "ILV-USD_close",
          "USDT-USD_close",
          "VTHO-USD_close",
          "ROSE-USD_close",
          "DAI-USD_close",
          "STMX-USD_close",
          "XNO-USD_close",
          "USDC-USD_close",
          "SKL-USD_close",
          "NMR-USD_close",
          "MASK-USD_close",
          "FIL-USD_close",
          "CRV-USD_close",
          "YFI-USD_close",
          "VET-USD_close",
          "LRC-USD_close",
          "AVAX-USD_close",
          "POLYX-USD_close",
          "BNB-USD_close",
          "SYS-USD_close",
          "VOXEL-USD_close",
          "DOT-USD_close",
          "LTO-USD_close",
          "RAD-USD_close",
          "ZIL-USD_close",
          "KNC-USD_close",
          "ICP-USD_close",
          "GALA-USD_close",
          "DGB-USD_close",
          "LOKA-USD_close",
          "KAVA-USD_close",
          "UNI-USD_close",
          "ADA-USD_close",
          "CELO-USD_close",
          "ENJ-USD_close",
          "MATIC-USD_close",
          "DASH-USD_close",
          "DOGE-USD_close",
          "KSM-USD_close",
          "STORJ-USD_close",
          "WAXP-USD_close",
          "TFUEL-USD_close",
          "MANA-USD_close",
          "BICO-USD_close",
          "BAND-USD_close",
          "TLM-USD_close",
          "WAVES-USD_close",
          "CUDOS-USD_close",
          "BOSON-USD_close",
          "AXS-USD_close",
          "NEAR-USD_close",
          "BAT-USD_close",
          "ZEN-USD_close",
          "EGLD-USD_close",
          "XTZ-USD_close",
          "LPT-USD_close",
          "APT-USD_close",
          "ETC-USD_close",
          "SHIB-USD_close",
          "SAND-USD_close",
          "ZEC-USD_close",
          "PROM-USD_close",
          "THETA-USD_close",
          "SLP-USD_close",
          "QNT-USD_close",
          "GTC-USD_close",
          "1INCH-USD_close",
          "ATOM-USD_close",
          "REN-USD_close",
          "FLOW-USD_close",
          "CLV-USD_close",
          "EOS-USD_close",
          "FLUX-USD_close",
          "OXT-USD_close",
          "API3-USD_close",
          "KDA-USD_close",
          "REQ-USD_close",
          "COTI-USD_close",
          "ALPINE-USD_close",
          "RVN-USD_close",
          "ENS-USD_close",
          "SUSHI-USD_close",
          "ALGO-USD_close",
          "MXC-USD_close",
          "VITE-USD_close",
          "PORTO-USD_close",
          "SANTOS-USD_close",
          "CHZ-USD_close",
          "LAZIO-USD_close"
         ],
         "yaxis": "y"
        }
       ],
       "layout": {
        "barmode": "relative",
        "coloraxis": {
         "colorbar": {
          "title": {
           "text": "Correlation"
          }
         },
         "colorscale": [
          [
           0,
           "rgb(103,0,31)"
          ],
          [
           0.1,
           "rgb(178,24,43)"
          ],
          [
           0.2,
           "rgb(214,96,77)"
          ],
          [
           0.3,
           "rgb(244,165,130)"
          ],
          [
           0.4,
           "rgb(253,219,199)"
          ],
          [
           0.5,
           "rgb(247,247,247)"
          ],
          [
           0.6,
           "rgb(209,229,240)"
          ],
          [
           0.7,
           "rgb(146,197,222)"
          ],
          [
           0.8,
           "rgb(67,147,195)"
          ],
          [
           0.9,
           "rgb(33,102,172)"
          ],
          [
           1,
           "rgb(5,48,97)"
          ]
         ]
        },
        "height": 2000,
        "legend": {
         "tracegroupgap": 0
        },
        "margin": {
         "t": 60
        },
        "template": {
         "data": {
          "bar": [
           {
            "error_x": {
             "color": "#2a3f5f"
            },
            "error_y": {
             "color": "#2a3f5f"
            },
            "marker": {
             "line": {
              "color": "white",
              "width": 0.5
             },
             "pattern": {
              "fillmode": "overlay",
              "size": 10,
              "solidity": 0.2
             }
            },
            "type": "bar"
           }
          ],
          "barpolar": [
           {
            "marker": {
             "line": {
              "color": "white",
              "width": 0.5
             },
             "pattern": {
              "fillmode": "overlay",
              "size": 10,
              "solidity": 0.2
             }
            },
            "type": "barpolar"
           }
          ],
          "carpet": [
           {
            "aaxis": {
             "endlinecolor": "#2a3f5f",
             "gridcolor": "#C8D4E3",
             "linecolor": "#C8D4E3",
             "minorgridcolor": "#C8D4E3",
             "startlinecolor": "#2a3f5f"
            },
            "baxis": {
             "endlinecolor": "#2a3f5f",
             "gridcolor": "#C8D4E3",
             "linecolor": "#C8D4E3",
             "minorgridcolor": "#C8D4E3",
             "startlinecolor": "#2a3f5f"
            },
            "type": "carpet"
           }
          ],
          "choropleth": [
           {
            "colorbar": {
             "outlinewidth": 0,
             "ticks": ""
            },
            "type": "choropleth"
           }
          ],
          "contour": [
           {
            "colorbar": {
             "outlinewidth": 0,
             "ticks": ""
            },
            "colorscale": [
             [
              0,
              "#0d0887"
             ],
             [
              0.1111111111111111,
              "#46039f"
             ],
             [
              0.2222222222222222,
              "#7201a8"
             ],
             [
              0.3333333333333333,
              "#9c179e"
             ],
             [
              0.4444444444444444,
              "#bd3786"
             ],
             [
              0.5555555555555556,
              "#d8576b"
             ],
             [
              0.6666666666666666,
              "#ed7953"
             ],
             [
              0.7777777777777778,
              "#fb9f3a"
             ],
             [
              0.8888888888888888,
              "#fdca26"
             ],
             [
              1,
              "#f0f921"
             ]
            ],
            "type": "contour"
           }
          ],
          "contourcarpet": [
           {
            "colorbar": {
             "outlinewidth": 0,
             "ticks": ""
            },
            "type": "contourcarpet"
           }
          ],
          "heatmap": [
           {
            "colorbar": {
             "outlinewidth": 0,
             "ticks": ""
            },
            "colorscale": [
             [
              0,
              "#0d0887"
             ],
             [
              0.1111111111111111,
              "#46039f"
             ],
             [
              0.2222222222222222,
              "#7201a8"
             ],
             [
              0.3333333333333333,
              "#9c179e"
             ],
             [
              0.4444444444444444,
              "#bd3786"
             ],
             [
              0.5555555555555556,
              "#d8576b"
             ],
             [
              0.6666666666666666,
              "#ed7953"
             ],
             [
              0.7777777777777778,
              "#fb9f3a"
             ],
             [
              0.8888888888888888,
              "#fdca26"
             ],
             [
              1,
              "#f0f921"
             ]
            ],
            "type": "heatmap"
           }
          ],
          "heatmapgl": [
           {
            "colorbar": {
             "outlinewidth": 0,
             "ticks": ""
            },
            "colorscale": [
             [
              0,
              "#0d0887"
             ],
             [
              0.1111111111111111,
              "#46039f"
             ],
             [
              0.2222222222222222,
              "#7201a8"
             ],
             [
              0.3333333333333333,
              "#9c179e"
             ],
             [
              0.4444444444444444,
              "#bd3786"
             ],
             [
              0.5555555555555556,
              "#d8576b"
             ],
             [
              0.6666666666666666,
              "#ed7953"
             ],
             [
              0.7777777777777778,
              "#fb9f3a"
             ],
             [
              0.8888888888888888,
              "#fdca26"
             ],
             [
              1,
              "#f0f921"
             ]
            ],
            "type": "heatmapgl"
           }
          ],
          "histogram": [
           {
            "marker": {
             "pattern": {
              "fillmode": "overlay",
              "size": 10,
              "solidity": 0.2
             }
            },
            "type": "histogram"
           }
          ],
          "histogram2d": [
           {
            "colorbar": {
             "outlinewidth": 0,
             "ticks": ""
            },
            "colorscale": [
             [
              0,
              "#0d0887"
             ],
             [
              0.1111111111111111,
              "#46039f"
             ],
             [
              0.2222222222222222,
              "#7201a8"
             ],
             [
              0.3333333333333333,
              "#9c179e"
             ],
             [
              0.4444444444444444,
              "#bd3786"
             ],
             [
              0.5555555555555556,
              "#d8576b"
             ],
             [
              0.6666666666666666,
              "#ed7953"
             ],
             [
              0.7777777777777778,
              "#fb9f3a"
             ],
             [
              0.8888888888888888,
              "#fdca26"
             ],
             [
              1,
              "#f0f921"
             ]
            ],
            "type": "histogram2d"
           }
          ],
          "histogram2dcontour": [
           {
            "colorbar": {
             "outlinewidth": 0,
             "ticks": ""
            },
            "colorscale": [
             [
              0,
              "#0d0887"
             ],
             [
              0.1111111111111111,
              "#46039f"
             ],
             [
              0.2222222222222222,
              "#7201a8"
             ],
             [
              0.3333333333333333,
              "#9c179e"
             ],
             [
              0.4444444444444444,
              "#bd3786"
             ],
             [
              0.5555555555555556,
              "#d8576b"
             ],
             [
              0.6666666666666666,
              "#ed7953"
             ],
             [
              0.7777777777777778,
              "#fb9f3a"
             ],
             [
              0.8888888888888888,
              "#fdca26"
             ],
             [
              1,
              "#f0f921"
             ]
            ],
            "type": "histogram2dcontour"
           }
          ],
          "mesh3d": [
           {
            "colorbar": {
             "outlinewidth": 0,
             "ticks": ""
            },
            "type": "mesh3d"
           }
          ],
          "parcoords": [
           {
            "line": {
             "colorbar": {
              "outlinewidth": 0,
              "ticks": ""
             }
            },
            "type": "parcoords"
           }
          ],
          "pie": [
           {
            "automargin": true,
            "type": "pie"
           }
          ],
          "scatter": [
           {
            "fillpattern": {
             "fillmode": "overlay",
             "size": 10,
             "solidity": 0.2
            },
            "type": "scatter"
           }
          ],
          "scatter3d": [
           {
            "line": {
             "colorbar": {
              "outlinewidth": 0,
              "ticks": ""
             }
            },
            "marker": {
             "colorbar": {
              "outlinewidth": 0,
              "ticks": ""
             }
            },
            "type": "scatter3d"
           }
          ],
          "scattercarpet": [
           {
            "marker": {
             "colorbar": {
              "outlinewidth": 0,
              "ticks": ""
             }
            },
            "type": "scattercarpet"
           }
          ],
          "scattergeo": [
           {
            "marker": {
             "colorbar": {
              "outlinewidth": 0,
              "ticks": ""
             }
            },
            "type": "scattergeo"
           }
          ],
          "scattergl": [
           {
            "marker": {
             "colorbar": {
              "outlinewidth": 0,
              "ticks": ""
             }
            },
            "type": "scattergl"
           }
          ],
          "scattermapbox": [
           {
            "marker": {
             "colorbar": {
              "outlinewidth": 0,
              "ticks": ""
             }
            },
            "type": "scattermapbox"
           }
          ],
          "scatterpolar": [
           {
            "marker": {
             "colorbar": {
              "outlinewidth": 0,
              "ticks": ""
             }
            },
            "type": "scatterpolar"
           }
          ],
          "scatterpolargl": [
           {
            "marker": {
             "colorbar": {
              "outlinewidth": 0,
              "ticks": ""
             }
            },
            "type": "scatterpolargl"
           }
          ],
          "scatterternary": [
           {
            "marker": {
             "colorbar": {
              "outlinewidth": 0,
              "ticks": ""
             }
            },
            "type": "scatterternary"
           }
          ],
          "surface": [
           {
            "colorbar": {
             "outlinewidth": 0,
             "ticks": ""
            },
            "colorscale": [
             [
              0,
              "#0d0887"
             ],
             [
              0.1111111111111111,
              "#46039f"
             ],
             [
              0.2222222222222222,
              "#7201a8"
             ],
             [
              0.3333333333333333,
              "#9c179e"
             ],
             [
              0.4444444444444444,
              "#bd3786"
             ],
             [
              0.5555555555555556,
              "#d8576b"
             ],
             [
              0.6666666666666666,
              "#ed7953"
             ],
             [
              0.7777777777777778,
              "#fb9f3a"
             ],
             [
              0.8888888888888888,
              "#fdca26"
             ],
             [
              1,
              "#f0f921"
             ]
            ],
            "type": "surface"
           }
          ],
          "table": [
           {
            "cells": {
             "fill": {
              "color": "#EBF0F8"
             },
             "line": {
              "color": "white"
             }
            },
            "header": {
             "fill": {
              "color": "#C8D4E3"
             },
             "line": {
              "color": "white"
             }
            },
            "type": "table"
           }
          ]
         },
         "layout": {
          "annotationdefaults": {
           "arrowcolor": "#2a3f5f",
           "arrowhead": 0,
           "arrowwidth": 1
          },
          "autotypenumbers": "strict",
          "coloraxis": {
           "colorbar": {
            "outlinewidth": 0,
            "ticks": ""
           }
          },
          "colorscale": {
           "diverging": [
            [
             0,
             "#8e0152"
            ],
            [
             0.1,
             "#c51b7d"
            ],
            [
             0.2,
             "#de77ae"
            ],
            [
             0.3,
             "#f1b6da"
            ],
            [
             0.4,
             "#fde0ef"
            ],
            [
             0.5,
             "#f7f7f7"
            ],
            [
             0.6,
             "#e6f5d0"
            ],
            [
             0.7,
             "#b8e186"
            ],
            [
             0.8,
             "#7fbc41"
            ],
            [
             0.9,
             "#4d9221"
            ],
            [
             1,
             "#276419"
            ]
           ],
           "sequential": [
            [
             0,
             "#0d0887"
            ],
            [
             0.1111111111111111,
             "#46039f"
            ],
            [
             0.2222222222222222,
             "#7201a8"
            ],
            [
             0.3333333333333333,
             "#9c179e"
            ],
            [
             0.4444444444444444,
             "#bd3786"
            ],
            [
             0.5555555555555556,
             "#d8576b"
            ],
            [
             0.6666666666666666,
             "#ed7953"
            ],
            [
             0.7777777777777778,
             "#fb9f3a"
            ],
            [
             0.8888888888888888,
             "#fdca26"
            ],
            [
             1,
             "#f0f921"
            ]
           ],
           "sequentialminus": [
            [
             0,
             "#0d0887"
            ],
            [
             0.1111111111111111,
             "#46039f"
            ],
            [
             0.2222222222222222,
             "#7201a8"
            ],
            [
             0.3333333333333333,
             "#9c179e"
            ],
            [
             0.4444444444444444,
             "#bd3786"
            ],
            [
             0.5555555555555556,
             "#d8576b"
            ],
            [
             0.6666666666666666,
             "#ed7953"
            ],
            [
             0.7777777777777778,
             "#fb9f3a"
            ],
            [
             0.8888888888888888,
             "#fdca26"
            ],
            [
             1,
             "#f0f921"
            ]
           ]
          },
          "colorway": [
           "#636efa",
           "#EF553B",
           "#00cc96",
           "#ab63fa",
           "#FFA15A",
           "#19d3f3",
           "#FF6692",
           "#B6E880",
           "#FF97FF",
           "#FECB52"
          ],
          "font": {
           "color": "#2a3f5f"
          },
          "geo": {
           "bgcolor": "white",
           "lakecolor": "white",
           "landcolor": "white",
           "showlakes": true,
           "showland": true,
           "subunitcolor": "#C8D4E3"
          },
          "hoverlabel": {
           "align": "left"
          },
          "hovermode": "closest",
          "mapbox": {
           "style": "light"
          },
          "paper_bgcolor": "white",
          "plot_bgcolor": "white",
          "polar": {
           "angularaxis": {
            "gridcolor": "#EBF0F8",
            "linecolor": "#EBF0F8",
            "ticks": ""
           },
           "bgcolor": "white",
           "radialaxis": {
            "gridcolor": "#EBF0F8",
            "linecolor": "#EBF0F8",
            "ticks": ""
           }
          },
          "scene": {
           "xaxis": {
            "backgroundcolor": "white",
            "gridcolor": "#DFE8F3",
            "gridwidth": 2,
            "linecolor": "#EBF0F8",
            "showbackground": true,
            "ticks": "",
            "zerolinecolor": "#EBF0F8"
           },
           "yaxis": {
            "backgroundcolor": "white",
            "gridcolor": "#DFE8F3",
            "gridwidth": 2,
            "linecolor": "#EBF0F8",
            "showbackground": true,
            "ticks": "",
            "zerolinecolor": "#EBF0F8"
           },
           "zaxis": {
            "backgroundcolor": "white",
            "gridcolor": "#DFE8F3",
            "gridwidth": 2,
            "linecolor": "#EBF0F8",
            "showbackground": true,
            "ticks": "",
            "zerolinecolor": "#EBF0F8"
           }
          },
          "shapedefaults": {
           "line": {
            "color": "#2a3f5f"
           }
          },
          "ternary": {
           "aaxis": {
            "gridcolor": "#DFE8F3",
            "linecolor": "#A2B1C6",
            "ticks": ""
           },
           "baxis": {
            "gridcolor": "#DFE8F3",
            "linecolor": "#A2B1C6",
            "ticks": ""
           },
           "bgcolor": "white",
           "caxis": {
            "gridcolor": "#DFE8F3",
            "linecolor": "#A2B1C6",
            "ticks": ""
           }
          },
          "title": {
           "x": 0.05
          },
          "xaxis": {
           "automargin": true,
           "gridcolor": "#EBF0F8",
           "linecolor": "#EBF0F8",
           "ticks": "",
           "title": {
            "standoff": 15
           },
           "zerolinecolor": "#EBF0F8",
           "zerolinewidth": 2
          },
          "yaxis": {
           "automargin": true,
           "gridcolor": "#EBF0F8",
           "linecolor": "#EBF0F8",
           "ticks": "",
           "title": {
            "standoff": 15
           },
           "zerolinecolor": "#EBF0F8",
           "zerolinewidth": 2
          }
         }
        },
        "title": {
         "text": "Correlation of Cryptocurrencies with BTC Close Prices"
        },
        "width": 800,
        "xaxis": {
         "anchor": "y",
         "domain": [
          0,
          1
         ],
         "title": {
          "text": "Correlation with BTC Close Price"
         }
        },
        "yaxis": {
         "anchor": "x",
         "domain": [
          0,
          1
         ],
         "title": {
          "text": "Cryptocurrency"
         }
        }
       }
      }
     },
     "metadata": {},
     "output_type": "display_data"
    },
    {
     "data": {
      "text/plain": [
       "['ETH-USD_close']"
      ]
     },
     "execution_count": 18,
     "metadata": {},
     "output_type": "execute_result"
    }
   ],
   "source": [
    "# Initialize an empty list to hold data for all tickers\n",
    "all_data_3 = []\n",
    "\n",
    "# Loop through each ticker symbol in the list\n",
    "for i in binanceUS_cryptoUSDT_pairs:\n",
    "    # Fetch the ticker data\n",
    "    ticker = yf.Ticker(i)\n",
    "    # Get historical market data, here max is used for demonstration; you can customize the period\n",
    "    data = ticker.history(start = '2022-05-16', end = '2023-10-23', interval = '1wk') #period = '1w'\n",
    "    \n",
    "    # Add a column to identify the ticker (optional)\n",
    "    data['Ticker'] = i\n",
    "    \n",
    "    # Append this data to the list\n",
    "    all_data_3.append(data)\n",
    "\n",
    "# Convert the list of DataFrames into a single DataFrame\n",
    "binanceUS_df_3 = pd.concat(all_data_3)# Initialize an empty list to hold data for all tickers\n",
    "all_data_3 = []\n",
    "\n",
    "binanceUS_df_3 = binanceUS_df_3.reset_index()\n",
    "\n",
    "# Pivot the DataFrame to make each ticker's close prices its own column\n",
    "close_prices_df_3 = binanceUS_df_3.pivot(index='Date', columns='Ticker', values='Close')\n",
    "\n",
    "# Ensure the column names are correct after pivoting\n",
    "close_prices_df_3.columns = [f'{ticker}_close' for ticker in close_prices_df_3.columns]\n",
    "close_prices_df_3\n",
    "\n",
    "# Calculate the correlation of each cryptocurrency's close prices with BTC's close prices\n",
    "binanceUS_correlation_with_btc_3 = close_prices_df_3.corrwith(BTC_df['btc_close'])\n",
    "\n",
    "# The result will be a Series where each index is a 'ticker_close' and its value is the correlation with 'BTC_close'\n",
    "binanceUS_correlation_with_btc_3 = pd.DataFrame(binanceUS_correlation_with_btc_3)\n",
    "binanceUS_correlation_with_btc_3.columns = ['correlation']\n",
    "# Reset the index and rename the new column\n",
    "binanceUS_correlation_with_btc_3.reset_index(inplace=True)\n",
    "binanceUS_correlation_with_btc_3.rename(columns={'index': 'Ticker'}, inplace=True)\n",
    "\n",
    "binanceUS_correlation_with_btc_3.head()\n",
    "\n",
    "binanceUS_correlation_with_btc_3 = binanceUS_correlation_with_btc_3.sort_values(by='correlation', ascending=False)\n",
    "\n",
    "# Interactive bar chart\n",
    "fig = px.bar(binanceUS_correlation_with_btc_3, y='Ticker', x='correlation', \n",
    "             text='correlation', orientation='h', \n",
    "             color='correlation', color_continuous_scale='RdBu',\n",
    "             labels={'correlation': 'Correlation with BTC'})\n",
    "\n",
    "# Layout enhancements\n",
    "fig.update_layout(title='Correlation of Cryptocurrencies with BTC Close Prices',\n",
    "                  xaxis_title='Correlation with BTC Close Price',\n",
    "                  yaxis_title='Cryptocurrency',\n",
    "                  coloraxis_colorbar=dict(title=\"Correlation\"),\n",
    "                  template='plotly_white',\n",
    "                  width = 800,\n",
    "                  height = 2000)\n",
    "\n",
    "# Text on bars\n",
    "fig.update_traces(texttemplate='%{text:.2f}', textposition='outside')\n",
    "\n",
    "fig.show()\n",
    "\n",
    "# Initialize the list to hold highly correlated tickers\n",
    "highly_correlated_3 = []\n",
    "\n",
    "# Iterate through the DataFrame and check each correlation value\n",
    "for index, row in binanceUS_correlation_with_btc_3.iterrows():\n",
    "    # Check if the correlation is greater than 0.80\n",
    "    if row['correlation'] > 0.85:\n",
    "        # Add the ticker name to the list\n",
    "        highly_correlated_3.append(row['Ticker'])\n",
    "\n",
    "# Display the list of highly correlated tickers\n",
    "highly_correlated_3"
   ]
  },
  {
   "cell_type": "markdown",
   "metadata": {},
   "source": [
    "### Question:\n",
    "#### Whats the correltion between the close of cryptocurrrencies offered on Binance.US USDT trading pairs since Bitcoins 2023 consolidation cycle breakout to today"
   ]
  },
  {
   "cell_type": "code",
   "execution_count": 30,
   "metadata": {},
   "outputs": [
    {
     "name": "stdout",
     "output_type": "stream",
     "text": [
      "- IMX-USD: No data found for this date range, symbol may be delisted\n",
      "- GRT-USD: No data found for this date range, symbol may be delisted\n",
      "- COMP-USD: No data found for this date range, symbol may be delisted\n",
      "- MASK-USD: No data found for this date range, symbol may be delisted\n",
      "- STG-USD: No data found for this date range, symbol may be delisted\n"
     ]
    },
    {
     "name": "stderr",
     "output_type": "stream",
     "text": [
      "C:\\Users\\Gino\\AppData\\Local\\Temp\\ipykernel_13168\\2411967993.py:18: FutureWarning:\n",
      "\n",
      "The behavior of array concatenation with empty entries is deprecated. In a future version, this will no longer exclude empty items when determining the result dtype. To retain the old behavior, exclude the empty entries before the concat operation.\n",
      "\n"
     ]
    },
    {
     "data": {
      "application/vnd.plotly.v1+json": {
       "config": {
        "plotlyServerURL": "https://plot.ly"
       },
       "data": [
        {
         "alignmentgroup": "True",
         "hovertemplate": "Correlation with BTC=%{marker.color}<br>Ticker=%{y}<extra></extra>",
         "legendgroup": "",
         "marker": {
          "color": [
           0.9647745834173042,
           0.960374453368496,
           0.9524143354881983,
           0.951095187804389,
           0.9504514068154021,
           0.9502602683972432,
           0.9498924680967837,
           0.9455563117208746,
           0.9353774669589275,
           0.9301254401216696,
           0.9257866299222954,
           0.9229518531281616,
           0.9227922834874209,
           0.9215063667625216,
           0.9154351798046182,
           0.912827651563381,
           0.9094729787929078,
           0.9083735111939975,
           0.9050131068266788,
           0.9035615408351428,
           0.9022425365507488,
           0.8977889569045662,
           0.8968768765181254,
           0.8968301934758176,
           0.8906155334676568,
           0.889114062121602,
           0.884870562306033,
           0.8820981415197962,
           0.8772886978196016,
           0.8752282921953612,
           0.8706631565914407,
           0.8617309436264537,
           0.86110065582688,
           0.8575372594521679,
           0.8538846061638984,
           0.8504747300976816,
           0.8489036386504029,
           0.8485771941252516,
           0.8460229348656956,
           0.8416861946988186,
           0.8329519256379627,
           0.8291377139955989,
           0.8263782951340951,
           0.8262356452813077,
           0.8260989131113908,
           0.8250880438910045,
           0.823851455062069,
           0.8220007695844794,
           0.8215889798022803,
           0.8213511607698344,
           0.8206967229466792,
           0.8003054225099646,
           0.7932960308861404,
           0.7888245033083375,
           0.7887756199756757,
           0.7855135702974417,
           0.7843220898014571,
           0.7770770472750099,
           0.7699687148711172,
           0.7692544899897789,
           0.7684278109382827,
           0.764340130109752,
           0.7555019917311334,
           0.7532065261275562,
           0.7435652474912064,
           0.7339324181024806,
           0.7324791587899262,
           0.7316408479048082,
           0.7222430950971517,
           0.7172267608219284,
           0.7155846779750662,
           0.7144550137964715,
           0.7069125430984112,
           0.7021484726057042,
           0.6860714843500897,
           0.6775812420948368,
           0.6627985488699578,
           0.6577092549932747,
           0.6539070842683053,
           0.6535049843670668,
           0.6532389312319657,
           0.6348318063728913,
           0.6306615876925328,
           0.6261229552242774,
           0.614648763813985,
           0.5982251491000016,
           0.5905446939423039,
           0.587334280036051,
           0.5769211698913108,
           0.5704442948140196,
           0.5526024135832219,
           0.5422759948434757,
           0.5264934343244494,
           0.5148166762116361,
           0.4828910560076601,
           0.4694875949197809,
           0.4547968744270087,
           0.44691650436683755,
           0.4335121360056038,
           0.3294159409531025,
           0.32473622391103407,
           0.2875096524202661,
           0.286729599719943,
           0.2559489563437183,
           0.2551407452657031,
           0.24391390371830915,
           0.18105693566682343,
           0.1596161447351379,
           0.1504049603437826,
           0.14536869657315743,
           0.1426272318286337,
           0.1252526401945471,
           0.12168997894280624,
           0.06670818225203963,
           0.06638466884536927,
           0.06599032740189764,
           0.06444122357526998,
           0.03715533966029776,
           0.03649776115357034,
           -0.14195251505073853,
           -0.15109761103623517,
           -0.23456529019667283,
           -0.3855146308215369,
           -0.43165597582615334,
           -0.4819448057745663,
           -0.48368739150998724,
           -0.6806968250288744
          ],
          "coloraxis": "coloraxis",
          "pattern": {
           "shape": ""
          }
         },
         "name": "",
         "offsetgroup": "",
         "orientation": "h",
         "showlegend": false,
         "text": [
          0.9647745834173042,
          0.960374453368496,
          0.9524143354881983,
          0.951095187804389,
          0.9504514068154021,
          0.9502602683972432,
          0.9498924680967837,
          0.9455563117208746,
          0.9353774669589275,
          0.9301254401216696,
          0.9257866299222954,
          0.9229518531281616,
          0.9227922834874209,
          0.9215063667625216,
          0.9154351798046182,
          0.912827651563381,
          0.9094729787929078,
          0.9083735111939975,
          0.9050131068266788,
          0.9035615408351428,
          0.9022425365507488,
          0.8977889569045662,
          0.8968768765181254,
          0.8968301934758176,
          0.8906155334676568,
          0.889114062121602,
          0.884870562306033,
          0.8820981415197962,
          0.8772886978196016,
          0.8752282921953612,
          0.8706631565914407,
          0.8617309436264537,
          0.86110065582688,
          0.8575372594521679,
          0.8538846061638984,
          0.8504747300976816,
          0.8489036386504029,
          0.8485771941252516,
          0.8460229348656956,
          0.8416861946988186,
          0.8329519256379627,
          0.8291377139955989,
          0.8263782951340951,
          0.8262356452813077,
          0.8260989131113908,
          0.8250880438910045,
          0.823851455062069,
          0.8220007695844794,
          0.8215889798022803,
          0.8213511607698344,
          0.8206967229466792,
          0.8003054225099646,
          0.7932960308861404,
          0.7888245033083375,
          0.7887756199756757,
          0.7855135702974417,
          0.7843220898014571,
          0.7770770472750099,
          0.7699687148711172,
          0.7692544899897789,
          0.7684278109382827,
          0.764340130109752,
          0.7555019917311334,
          0.7532065261275562,
          0.7435652474912064,
          0.7339324181024806,
          0.7324791587899262,
          0.7316408479048082,
          0.7222430950971517,
          0.7172267608219284,
          0.7155846779750662,
          0.7144550137964715,
          0.7069125430984112,
          0.7021484726057042,
          0.6860714843500897,
          0.6775812420948368,
          0.6627985488699578,
          0.6577092549932747,
          0.6539070842683053,
          0.6535049843670668,
          0.6532389312319657,
          0.6348318063728913,
          0.6306615876925328,
          0.6261229552242774,
          0.614648763813985,
          0.5982251491000016,
          0.5905446939423039,
          0.587334280036051,
          0.5769211698913108,
          0.5704442948140196,
          0.5526024135832219,
          0.5422759948434757,
          0.5264934343244494,
          0.5148166762116361,
          0.4828910560076601,
          0.4694875949197809,
          0.4547968744270087,
          0.44691650436683755,
          0.4335121360056038,
          0.3294159409531025,
          0.32473622391103407,
          0.2875096524202661,
          0.286729599719943,
          0.2559489563437183,
          0.2551407452657031,
          0.24391390371830915,
          0.18105693566682343,
          0.1596161447351379,
          0.1504049603437826,
          0.14536869657315743,
          0.1426272318286337,
          0.1252526401945471,
          0.12168997894280624,
          0.06670818225203963,
          0.06638466884536927,
          0.06599032740189764,
          0.06444122357526998,
          0.03715533966029776,
          0.03649776115357034,
          -0.14195251505073853,
          -0.15109761103623517,
          -0.23456529019667283,
          -0.3855146308215369,
          -0.43165597582615334,
          -0.4819448057745663,
          -0.48368739150998724,
          -0.6806968250288744
         ],
         "textposition": "outside",
         "texttemplate": "%{text:.2f}",
         "type": "bar",
         "x": [
          0.9647745834173042,
          0.960374453368496,
          0.9524143354881983,
          0.951095187804389,
          0.9504514068154021,
          0.9502602683972432,
          0.9498924680967837,
          0.9455563117208746,
          0.9353774669589275,
          0.9301254401216696,
          0.9257866299222954,
          0.9229518531281616,
          0.9227922834874209,
          0.9215063667625216,
          0.9154351798046182,
          0.912827651563381,
          0.9094729787929078,
          0.9083735111939975,
          0.9050131068266788,
          0.9035615408351428,
          0.9022425365507488,
          0.8977889569045662,
          0.8968768765181254,
          0.8968301934758176,
          0.8906155334676568,
          0.889114062121602,
          0.884870562306033,
          0.8820981415197962,
          0.8772886978196016,
          0.8752282921953612,
          0.8706631565914407,
          0.8617309436264537,
          0.86110065582688,
          0.8575372594521679,
          0.8538846061638984,
          0.8504747300976816,
          0.8489036386504029,
          0.8485771941252516,
          0.8460229348656956,
          0.8416861946988186,
          0.8329519256379627,
          0.8291377139955989,
          0.8263782951340951,
          0.8262356452813077,
          0.8260989131113908,
          0.8250880438910045,
          0.823851455062069,
          0.8220007695844794,
          0.8215889798022803,
          0.8213511607698344,
          0.8206967229466792,
          0.8003054225099646,
          0.7932960308861404,
          0.7888245033083375,
          0.7887756199756757,
          0.7855135702974417,
          0.7843220898014571,
          0.7770770472750099,
          0.7699687148711172,
          0.7692544899897789,
          0.7684278109382827,
          0.764340130109752,
          0.7555019917311334,
          0.7532065261275562,
          0.7435652474912064,
          0.7339324181024806,
          0.7324791587899262,
          0.7316408479048082,
          0.7222430950971517,
          0.7172267608219284,
          0.7155846779750662,
          0.7144550137964715,
          0.7069125430984112,
          0.7021484726057042,
          0.6860714843500897,
          0.6775812420948368,
          0.6627985488699578,
          0.6577092549932747,
          0.6539070842683053,
          0.6535049843670668,
          0.6532389312319657,
          0.6348318063728913,
          0.6306615876925328,
          0.6261229552242774,
          0.614648763813985,
          0.5982251491000016,
          0.5905446939423039,
          0.587334280036051,
          0.5769211698913108,
          0.5704442948140196,
          0.5526024135832219,
          0.5422759948434757,
          0.5264934343244494,
          0.5148166762116361,
          0.4828910560076601,
          0.4694875949197809,
          0.4547968744270087,
          0.44691650436683755,
          0.4335121360056038,
          0.3294159409531025,
          0.32473622391103407,
          0.2875096524202661,
          0.286729599719943,
          0.2559489563437183,
          0.2551407452657031,
          0.24391390371830915,
          0.18105693566682343,
          0.1596161447351379,
          0.1504049603437826,
          0.14536869657315743,
          0.1426272318286337,
          0.1252526401945471,
          0.12168997894280624,
          0.06670818225203963,
          0.06638466884536927,
          0.06599032740189764,
          0.06444122357526998,
          0.03715533966029776,
          0.03649776115357034,
          -0.14195251505073853,
          -0.15109761103623517,
          -0.23456529019667283,
          -0.3855146308215369,
          -0.43165597582615334,
          -0.4819448057745663,
          -0.48368739150998724,
          -0.6806968250288744
         ],
         "xaxis": "x",
         "y": [
          "ETH-USD_close",
          "ANT-USD_close",
          "CUDOS-USD_close",
          "FLUX-USD_close",
          "SLP-USD_close",
          "LTO-USD_close",
          "VET-USD_close",
          "RNDR-USD_close",
          "VTHO-USD_close",
          "OXT-USD_close",
          "PROM-USD_close",
          "FET-USD_close",
          "VITE-USD_close",
          "HBAR-USD_close",
          "CTSI-USD_close",
          "PORTO-USD_close",
          "FLOW-USD_close",
          "CHZ-USD_close",
          "ALPINE-USD_close",
          "NMR-USD_close",
          "CELO-USD_close",
          "VOXEL-USD_close",
          "API3-USD_close",
          "BNB-USD_close",
          "SYS-USD_close",
          "CELR-USD_close",
          "1INCH-USD_close",
          "OCEAN-USD_close",
          "REQ-USD_close",
          "BAND-USD_close",
          "FIL-USD_close",
          "SANTOS-USD_close",
          "LAZIO-USD_close",
          "ETC-USD_close",
          "LDO-USD_close",
          "NEAR-USD_close",
          "XTZ-USD_close",
          "SKL-USD_close",
          "COTI-USD_close",
          "LPT-USD_close",
          "THETA-USD_close",
          "RVN-USD_close",
          "ADA-USD_close",
          "KSM-USD_close",
          "SOL-USD_close",
          "MXC-USD_close",
          "LINK-USD_close",
          "CLV-USD_close",
          "MATIC-USD_close",
          "OP-USD_close",
          "BCH-USD_close",
          "DGB-USD_close",
          "ROSE-USD_close",
          "XNO-USD_close",
          "DOT-USD_close",
          "RAD-USD_close",
          "BAT-USD_close",
          "SUSHI-USD_close",
          "MKR-USD_close",
          "ENS-USD_close",
          "GAL-USD_close",
          "KDA-USD_close",
          "AXS-USD_close",
          "AUDIO-USD_close",
          "ICP-USD_close",
          "ANKR-USD_close",
          "BICO-USD_close",
          "ALGO-USD_close",
          "AVAX-USD_close",
          "ACH-USD_close",
          "MANA-USD_close",
          "TFUEL-USD_close",
          "TLM-USD_close",
          "ASTR-USD_close",
          "REN-USD_close",
          "FTM-USD_close",
          "ATOM-USD_close",
          "ZIL-USD_close",
          "SNX-USD_close",
          "SHIB-USD_close",
          "SAND-USD_close",
          "EOS-USD_close",
          "LRC-USD_close",
          "GALA-USD_close",
          "IOTA-USD_close",
          "WAVES-USD_close",
          "ILV-USD_close",
          "ENJ-USD_close",
          "EGLD-USD_close",
          "FLOKI-USD_close",
          "DOGE-USD_close",
          "GTC-USD_close",
          "T-USD_close",
          "ONT-USD_close",
          "APE-USD_close",
          "LOKA-USD_close",
          "BOSON-USD_close",
          "NEO-USD_close",
          "QTUM-USD_close",
          "ONE-USD_close",
          "AAVE-USD_close",
          "PAXG-USD_close",
          "APT-USD_close",
          "KAVA-USD_close",
          "STORJ-USD_close",
          "YFI-USD_close",
          "LTC-USD_close",
          "DAI-USD_close",
          "QNT-USD_close",
          "ICX-USD_close",
          "ZEN-USD_close",
          "USDT-USD_close",
          "BNT-USD_close",
          "ZRX-USD_close",
          "CRV-USD_close",
          "WAXP-USD_close",
          "DASH-USD_close",
          "UNI-USD_close",
          "USDC-USD_close",
          "ZEC-USD_close",
          "STMX-USD_close",
          "XLM-USD_close",
          "POLYX-USD_close",
          "KNC-USD_close",
          "LOOM-USD_close",
          "XRP-USD_close",
          "ARB-USD_close"
         ],
         "yaxis": "y"
        }
       ],
       "layout": {
        "barmode": "relative",
        "coloraxis": {
         "colorbar": {
          "title": {
           "text": "Correlation"
          }
         },
         "colorscale": [
          [
           0,
           "rgb(103,0,31)"
          ],
          [
           0.1,
           "rgb(178,24,43)"
          ],
          [
           0.2,
           "rgb(214,96,77)"
          ],
          [
           0.3,
           "rgb(244,165,130)"
          ],
          [
           0.4,
           "rgb(253,219,199)"
          ],
          [
           0.5,
           "rgb(247,247,247)"
          ],
          [
           0.6,
           "rgb(209,229,240)"
          ],
          [
           0.7,
           "rgb(146,197,222)"
          ],
          [
           0.8,
           "rgb(67,147,195)"
          ],
          [
           0.9,
           "rgb(33,102,172)"
          ],
          [
           1,
           "rgb(5,48,97)"
          ]
         ]
        },
        "height": 2000,
        "legend": {
         "tracegroupgap": 0
        },
        "margin": {
         "t": 60
        },
        "template": {
         "data": {
          "bar": [
           {
            "error_x": {
             "color": "#2a3f5f"
            },
            "error_y": {
             "color": "#2a3f5f"
            },
            "marker": {
             "line": {
              "color": "white",
              "width": 0.5
             },
             "pattern": {
              "fillmode": "overlay",
              "size": 10,
              "solidity": 0.2
             }
            },
            "type": "bar"
           }
          ],
          "barpolar": [
           {
            "marker": {
             "line": {
              "color": "white",
              "width": 0.5
             },
             "pattern": {
              "fillmode": "overlay",
              "size": 10,
              "solidity": 0.2
             }
            },
            "type": "barpolar"
           }
          ],
          "carpet": [
           {
            "aaxis": {
             "endlinecolor": "#2a3f5f",
             "gridcolor": "#C8D4E3",
             "linecolor": "#C8D4E3",
             "minorgridcolor": "#C8D4E3",
             "startlinecolor": "#2a3f5f"
            },
            "baxis": {
             "endlinecolor": "#2a3f5f",
             "gridcolor": "#C8D4E3",
             "linecolor": "#C8D4E3",
             "minorgridcolor": "#C8D4E3",
             "startlinecolor": "#2a3f5f"
            },
            "type": "carpet"
           }
          ],
          "choropleth": [
           {
            "colorbar": {
             "outlinewidth": 0,
             "ticks": ""
            },
            "type": "choropleth"
           }
          ],
          "contour": [
           {
            "colorbar": {
             "outlinewidth": 0,
             "ticks": ""
            },
            "colorscale": [
             [
              0,
              "#0d0887"
             ],
             [
              0.1111111111111111,
              "#46039f"
             ],
             [
              0.2222222222222222,
              "#7201a8"
             ],
             [
              0.3333333333333333,
              "#9c179e"
             ],
             [
              0.4444444444444444,
              "#bd3786"
             ],
             [
              0.5555555555555556,
              "#d8576b"
             ],
             [
              0.6666666666666666,
              "#ed7953"
             ],
             [
              0.7777777777777778,
              "#fb9f3a"
             ],
             [
              0.8888888888888888,
              "#fdca26"
             ],
             [
              1,
              "#f0f921"
             ]
            ],
            "type": "contour"
           }
          ],
          "contourcarpet": [
           {
            "colorbar": {
             "outlinewidth": 0,
             "ticks": ""
            },
            "type": "contourcarpet"
           }
          ],
          "heatmap": [
           {
            "colorbar": {
             "outlinewidth": 0,
             "ticks": ""
            },
            "colorscale": [
             [
              0,
              "#0d0887"
             ],
             [
              0.1111111111111111,
              "#46039f"
             ],
             [
              0.2222222222222222,
              "#7201a8"
             ],
             [
              0.3333333333333333,
              "#9c179e"
             ],
             [
              0.4444444444444444,
              "#bd3786"
             ],
             [
              0.5555555555555556,
              "#d8576b"
             ],
             [
              0.6666666666666666,
              "#ed7953"
             ],
             [
              0.7777777777777778,
              "#fb9f3a"
             ],
             [
              0.8888888888888888,
              "#fdca26"
             ],
             [
              1,
              "#f0f921"
             ]
            ],
            "type": "heatmap"
           }
          ],
          "heatmapgl": [
           {
            "colorbar": {
             "outlinewidth": 0,
             "ticks": ""
            },
            "colorscale": [
             [
              0,
              "#0d0887"
             ],
             [
              0.1111111111111111,
              "#46039f"
             ],
             [
              0.2222222222222222,
              "#7201a8"
             ],
             [
              0.3333333333333333,
              "#9c179e"
             ],
             [
              0.4444444444444444,
              "#bd3786"
             ],
             [
              0.5555555555555556,
              "#d8576b"
             ],
             [
              0.6666666666666666,
              "#ed7953"
             ],
             [
              0.7777777777777778,
              "#fb9f3a"
             ],
             [
              0.8888888888888888,
              "#fdca26"
             ],
             [
              1,
              "#f0f921"
             ]
            ],
            "type": "heatmapgl"
           }
          ],
          "histogram": [
           {
            "marker": {
             "pattern": {
              "fillmode": "overlay",
              "size": 10,
              "solidity": 0.2
             }
            },
            "type": "histogram"
           }
          ],
          "histogram2d": [
           {
            "colorbar": {
             "outlinewidth": 0,
             "ticks": ""
            },
            "colorscale": [
             [
              0,
              "#0d0887"
             ],
             [
              0.1111111111111111,
              "#46039f"
             ],
             [
              0.2222222222222222,
              "#7201a8"
             ],
             [
              0.3333333333333333,
              "#9c179e"
             ],
             [
              0.4444444444444444,
              "#bd3786"
             ],
             [
              0.5555555555555556,
              "#d8576b"
             ],
             [
              0.6666666666666666,
              "#ed7953"
             ],
             [
              0.7777777777777778,
              "#fb9f3a"
             ],
             [
              0.8888888888888888,
              "#fdca26"
             ],
             [
              1,
              "#f0f921"
             ]
            ],
            "type": "histogram2d"
           }
          ],
          "histogram2dcontour": [
           {
            "colorbar": {
             "outlinewidth": 0,
             "ticks": ""
            },
            "colorscale": [
             [
              0,
              "#0d0887"
             ],
             [
              0.1111111111111111,
              "#46039f"
             ],
             [
              0.2222222222222222,
              "#7201a8"
             ],
             [
              0.3333333333333333,
              "#9c179e"
             ],
             [
              0.4444444444444444,
              "#bd3786"
             ],
             [
              0.5555555555555556,
              "#d8576b"
             ],
             [
              0.6666666666666666,
              "#ed7953"
             ],
             [
              0.7777777777777778,
              "#fb9f3a"
             ],
             [
              0.8888888888888888,
              "#fdca26"
             ],
             [
              1,
              "#f0f921"
             ]
            ],
            "type": "histogram2dcontour"
           }
          ],
          "mesh3d": [
           {
            "colorbar": {
             "outlinewidth": 0,
             "ticks": ""
            },
            "type": "mesh3d"
           }
          ],
          "parcoords": [
           {
            "line": {
             "colorbar": {
              "outlinewidth": 0,
              "ticks": ""
             }
            },
            "type": "parcoords"
           }
          ],
          "pie": [
           {
            "automargin": true,
            "type": "pie"
           }
          ],
          "scatter": [
           {
            "fillpattern": {
             "fillmode": "overlay",
             "size": 10,
             "solidity": 0.2
            },
            "type": "scatter"
           }
          ],
          "scatter3d": [
           {
            "line": {
             "colorbar": {
              "outlinewidth": 0,
              "ticks": ""
             }
            },
            "marker": {
             "colorbar": {
              "outlinewidth": 0,
              "ticks": ""
             }
            },
            "type": "scatter3d"
           }
          ],
          "scattercarpet": [
           {
            "marker": {
             "colorbar": {
              "outlinewidth": 0,
              "ticks": ""
             }
            },
            "type": "scattercarpet"
           }
          ],
          "scattergeo": [
           {
            "marker": {
             "colorbar": {
              "outlinewidth": 0,
              "ticks": ""
             }
            },
            "type": "scattergeo"
           }
          ],
          "scattergl": [
           {
            "marker": {
             "colorbar": {
              "outlinewidth": 0,
              "ticks": ""
             }
            },
            "type": "scattergl"
           }
          ],
          "scattermapbox": [
           {
            "marker": {
             "colorbar": {
              "outlinewidth": 0,
              "ticks": ""
             }
            },
            "type": "scattermapbox"
           }
          ],
          "scatterpolar": [
           {
            "marker": {
             "colorbar": {
              "outlinewidth": 0,
              "ticks": ""
             }
            },
            "type": "scatterpolar"
           }
          ],
          "scatterpolargl": [
           {
            "marker": {
             "colorbar": {
              "outlinewidth": 0,
              "ticks": ""
             }
            },
            "type": "scatterpolargl"
           }
          ],
          "scatterternary": [
           {
            "marker": {
             "colorbar": {
              "outlinewidth": 0,
              "ticks": ""
             }
            },
            "type": "scatterternary"
           }
          ],
          "surface": [
           {
            "colorbar": {
             "outlinewidth": 0,
             "ticks": ""
            },
            "colorscale": [
             [
              0,
              "#0d0887"
             ],
             [
              0.1111111111111111,
              "#46039f"
             ],
             [
              0.2222222222222222,
              "#7201a8"
             ],
             [
              0.3333333333333333,
              "#9c179e"
             ],
             [
              0.4444444444444444,
              "#bd3786"
             ],
             [
              0.5555555555555556,
              "#d8576b"
             ],
             [
              0.6666666666666666,
              "#ed7953"
             ],
             [
              0.7777777777777778,
              "#fb9f3a"
             ],
             [
              0.8888888888888888,
              "#fdca26"
             ],
             [
              1,
              "#f0f921"
             ]
            ],
            "type": "surface"
           }
          ],
          "table": [
           {
            "cells": {
             "fill": {
              "color": "#EBF0F8"
             },
             "line": {
              "color": "white"
             }
            },
            "header": {
             "fill": {
              "color": "#C8D4E3"
             },
             "line": {
              "color": "white"
             }
            },
            "type": "table"
           }
          ]
         },
         "layout": {
          "annotationdefaults": {
           "arrowcolor": "#2a3f5f",
           "arrowhead": 0,
           "arrowwidth": 1
          },
          "autotypenumbers": "strict",
          "coloraxis": {
           "colorbar": {
            "outlinewidth": 0,
            "ticks": ""
           }
          },
          "colorscale": {
           "diverging": [
            [
             0,
             "#8e0152"
            ],
            [
             0.1,
             "#c51b7d"
            ],
            [
             0.2,
             "#de77ae"
            ],
            [
             0.3,
             "#f1b6da"
            ],
            [
             0.4,
             "#fde0ef"
            ],
            [
             0.5,
             "#f7f7f7"
            ],
            [
             0.6,
             "#e6f5d0"
            ],
            [
             0.7,
             "#b8e186"
            ],
            [
             0.8,
             "#7fbc41"
            ],
            [
             0.9,
             "#4d9221"
            ],
            [
             1,
             "#276419"
            ]
           ],
           "sequential": [
            [
             0,
             "#0d0887"
            ],
            [
             0.1111111111111111,
             "#46039f"
            ],
            [
             0.2222222222222222,
             "#7201a8"
            ],
            [
             0.3333333333333333,
             "#9c179e"
            ],
            [
             0.4444444444444444,
             "#bd3786"
            ],
            [
             0.5555555555555556,
             "#d8576b"
            ],
            [
             0.6666666666666666,
             "#ed7953"
            ],
            [
             0.7777777777777778,
             "#fb9f3a"
            ],
            [
             0.8888888888888888,
             "#fdca26"
            ],
            [
             1,
             "#f0f921"
            ]
           ],
           "sequentialminus": [
            [
             0,
             "#0d0887"
            ],
            [
             0.1111111111111111,
             "#46039f"
            ],
            [
             0.2222222222222222,
             "#7201a8"
            ],
            [
             0.3333333333333333,
             "#9c179e"
            ],
            [
             0.4444444444444444,
             "#bd3786"
            ],
            [
             0.5555555555555556,
             "#d8576b"
            ],
            [
             0.6666666666666666,
             "#ed7953"
            ],
            [
             0.7777777777777778,
             "#fb9f3a"
            ],
            [
             0.8888888888888888,
             "#fdca26"
            ],
            [
             1,
             "#f0f921"
            ]
           ]
          },
          "colorway": [
           "#636efa",
           "#EF553B",
           "#00cc96",
           "#ab63fa",
           "#FFA15A",
           "#19d3f3",
           "#FF6692",
           "#B6E880",
           "#FF97FF",
           "#FECB52"
          ],
          "font": {
           "color": "#2a3f5f"
          },
          "geo": {
           "bgcolor": "white",
           "lakecolor": "white",
           "landcolor": "white",
           "showlakes": true,
           "showland": true,
           "subunitcolor": "#C8D4E3"
          },
          "hoverlabel": {
           "align": "left"
          },
          "hovermode": "closest",
          "mapbox": {
           "style": "light"
          },
          "paper_bgcolor": "white",
          "plot_bgcolor": "white",
          "polar": {
           "angularaxis": {
            "gridcolor": "#EBF0F8",
            "linecolor": "#EBF0F8",
            "ticks": ""
           },
           "bgcolor": "white",
           "radialaxis": {
            "gridcolor": "#EBF0F8",
            "linecolor": "#EBF0F8",
            "ticks": ""
           }
          },
          "scene": {
           "xaxis": {
            "backgroundcolor": "white",
            "gridcolor": "#DFE8F3",
            "gridwidth": 2,
            "linecolor": "#EBF0F8",
            "showbackground": true,
            "ticks": "",
            "zerolinecolor": "#EBF0F8"
           },
           "yaxis": {
            "backgroundcolor": "white",
            "gridcolor": "#DFE8F3",
            "gridwidth": 2,
            "linecolor": "#EBF0F8",
            "showbackground": true,
            "ticks": "",
            "zerolinecolor": "#EBF0F8"
           },
           "zaxis": {
            "backgroundcolor": "white",
            "gridcolor": "#DFE8F3",
            "gridwidth": 2,
            "linecolor": "#EBF0F8",
            "showbackground": true,
            "ticks": "",
            "zerolinecolor": "#EBF0F8"
           }
          },
          "shapedefaults": {
           "line": {
            "color": "#2a3f5f"
           }
          },
          "ternary": {
           "aaxis": {
            "gridcolor": "#DFE8F3",
            "linecolor": "#A2B1C6",
            "ticks": ""
           },
           "baxis": {
            "gridcolor": "#DFE8F3",
            "linecolor": "#A2B1C6",
            "ticks": ""
           },
           "bgcolor": "white",
           "caxis": {
            "gridcolor": "#DFE8F3",
            "linecolor": "#A2B1C6",
            "ticks": ""
           }
          },
          "title": {
           "x": 0.05
          },
          "xaxis": {
           "automargin": true,
           "gridcolor": "#EBF0F8",
           "linecolor": "#EBF0F8",
           "ticks": "",
           "title": {
            "standoff": 15
           },
           "zerolinecolor": "#EBF0F8",
           "zerolinewidth": 2
          },
          "yaxis": {
           "automargin": true,
           "gridcolor": "#EBF0F8",
           "linecolor": "#EBF0F8",
           "ticks": "",
           "title": {
            "standoff": 15
           },
           "zerolinecolor": "#EBF0F8",
           "zerolinewidth": 2
          }
         }
        },
        "title": {
         "text": "Correlation of Cryptocurrencies with BTC Close Prices"
        },
        "width": 800,
        "xaxis": {
         "anchor": "y",
         "domain": [
          0,
          1
         ],
         "title": {
          "text": "Correlation with BTC Close Price"
         }
        },
        "yaxis": {
         "anchor": "x",
         "domain": [
          0,
          1
         ],
         "title": {
          "text": "Cryptocurrency"
         }
        }
       }
      }
     },
     "metadata": {},
     "output_type": "display_data"
    },
    {
     "data": {
      "text/html": [
       "<div>\n",
       "<style scoped>\n",
       "    .dataframe tbody tr th:only-of-type {\n",
       "        vertical-align: middle;\n",
       "    }\n",
       "\n",
       "    .dataframe tbody tr th {\n",
       "        vertical-align: top;\n",
       "    }\n",
       "\n",
       "    .dataframe thead th {\n",
       "        text-align: right;\n",
       "    }\n",
       "</style>\n",
       "<table border=\"1\" class=\"dataframe\">\n",
       "  <thead>\n",
       "    <tr style=\"text-align: right;\">\n",
       "      <th></th>\n",
       "      <th>Ticker</th>\n",
       "      <th>correlation</th>\n",
       "    </tr>\n",
       "  </thead>\n",
       "  <tbody>\n",
       "    <tr>\n",
       "      <th>42</th>\n",
       "      <td>ETH-USD_close</td>\n",
       "      <td>0.964775</td>\n",
       "    </tr>\n",
       "    <tr>\n",
       "      <th>7</th>\n",
       "      <td>ANT-USD_close</td>\n",
       "      <td>0.960374</td>\n",
       "    </tr>\n",
       "    <tr>\n",
       "      <th>31</th>\n",
       "      <td>CUDOS-USD_close</td>\n",
       "      <td>0.952414</td>\n",
       "    </tr>\n",
       "    <tr>\n",
       "      <th>47</th>\n",
       "      <td>FLUX-USD_close</td>\n",
       "      <td>0.951095</td>\n",
       "    </tr>\n",
       "    <tr>\n",
       "      <th>98</th>\n",
       "      <td>SLP-USD_close</td>\n",
       "      <td>0.950451</td>\n",
       "    </tr>\n",
       "    <tr>\n",
       "      <th>69</th>\n",
       "      <td>LTO-USD_close</td>\n",
       "      <td>0.950260</td>\n",
       "    </tr>\n",
       "    <tr>\n",
       "      <th>112</th>\n",
       "      <td>VET-USD_close</td>\n",
       "      <td>0.949892</td>\n",
       "    </tr>\n",
       "    <tr>\n",
       "      <th>91</th>\n",
       "      <td>RNDR-USD_close</td>\n",
       "      <td>0.945556</td>\n",
       "    </tr>\n",
       "    <tr>\n",
       "      <th>115</th>\n",
       "      <td>VTHO-USD_close</td>\n",
       "      <td>0.935377</td>\n",
       "    </tr>\n",
       "    <tr>\n",
       "      <th>81</th>\n",
       "      <td>OXT-USD_close</td>\n",
       "      <td>0.930125</td>\n",
       "    </tr>\n",
       "    <tr>\n",
       "      <th>85</th>\n",
       "      <td>PROM-USD_close</td>\n",
       "      <td>0.925787</td>\n",
       "    </tr>\n",
       "    <tr>\n",
       "      <th>43</th>\n",
       "      <td>FET-USD_close</td>\n",
       "      <td>0.922952</td>\n",
       "    </tr>\n",
       "    <tr>\n",
       "      <th>113</th>\n",
       "      <td>VITE-USD_close</td>\n",
       "      <td>0.922792</td>\n",
       "    </tr>\n",
       "    <tr>\n",
       "      <th>52</th>\n",
       "      <td>HBAR-USD_close</td>\n",
       "      <td>0.921506</td>\n",
       "    </tr>\n",
       "    <tr>\n",
       "      <th>30</th>\n",
       "      <td>CTSI-USD_close</td>\n",
       "      <td>0.915435</td>\n",
       "    </tr>\n",
       "    <tr>\n",
       "      <th>84</th>\n",
       "      <td>PORTO-USD_close</td>\n",
       "      <td>0.912828</td>\n",
       "    </tr>\n",
       "    <tr>\n",
       "      <th>46</th>\n",
       "      <td>FLOW-USD_close</td>\n",
       "      <td>0.909473</td>\n",
       "    </tr>\n",
       "    <tr>\n",
       "      <th>26</th>\n",
       "      <td>CHZ-USD_close</td>\n",
       "      <td>0.908374</td>\n",
       "    </tr>\n",
       "    <tr>\n",
       "      <th>5</th>\n",
       "      <td>ALPINE-USD_close</td>\n",
       "      <td>0.905013</td>\n",
       "    </tr>\n",
       "    <tr>\n",
       "      <th>76</th>\n",
       "      <td>NMR-USD_close</td>\n",
       "      <td>0.903562</td>\n",
       "    </tr>\n",
       "    <tr>\n",
       "      <th>24</th>\n",
       "      <td>CELO-USD_close</td>\n",
       "      <td>0.902243</td>\n",
       "    </tr>\n",
       "    <tr>\n",
       "      <th>114</th>\n",
       "      <td>VOXEL-USD_close</td>\n",
       "      <td>0.897789</td>\n",
       "    </tr>\n",
       "    <tr>\n",
       "      <th>9</th>\n",
       "      <td>API3-USD_close</td>\n",
       "      <td>0.896877</td>\n",
       "    </tr>\n",
       "    <tr>\n",
       "      <th>21</th>\n",
       "      <td>BNB-USD_close</td>\n",
       "      <td>0.896830</td>\n",
       "    </tr>\n",
       "    <tr>\n",
       "      <th>104</th>\n",
       "      <td>SYS-USD_close</td>\n",
       "      <td>0.890616</td>\n",
       "    </tr>\n",
       "    <tr>\n",
       "      <th>25</th>\n",
       "      <td>CELR-USD_close</td>\n",
       "      <td>0.889114</td>\n",
       "    </tr>\n",
       "    <tr>\n",
       "      <th>0</th>\n",
       "      <td>1INCH-USD_close</td>\n",
       "      <td>0.884871</td>\n",
       "    </tr>\n",
       "    <tr>\n",
       "      <th>77</th>\n",
       "      <td>OCEAN-USD_close</td>\n",
       "      <td>0.882098</td>\n",
       "    </tr>\n",
       "    <tr>\n",
       "      <th>90</th>\n",
       "      <td>REQ-USD_close</td>\n",
       "      <td>0.877289</td>\n",
       "    </tr>\n",
       "    <tr>\n",
       "      <th>17</th>\n",
       "      <td>BAND-USD_close</td>\n",
       "      <td>0.875228</td>\n",
       "    </tr>\n",
       "    <tr>\n",
       "      <th>44</th>\n",
       "      <td>FIL-USD_close</td>\n",
       "      <td>0.870663</td>\n",
       "    </tr>\n",
       "    <tr>\n",
       "      <th>95</th>\n",
       "      <td>SANTOS-USD_close</td>\n",
       "      <td>0.861731</td>\n",
       "    </tr>\n",
       "    <tr>\n",
       "      <th>61</th>\n",
       "      <td>LAZIO-USD_close</td>\n",
       "      <td>0.861101</td>\n",
       "    </tr>\n",
       "    <tr>\n",
       "      <th>41</th>\n",
       "      <td>ETC-USD_close</td>\n",
       "      <td>0.857537</td>\n",
       "    </tr>\n",
       "    <tr>\n",
       "      <th>62</th>\n",
       "      <td>LDO-USD_close</td>\n",
       "      <td>0.853885</td>\n",
       "    </tr>\n",
       "    <tr>\n",
       "      <th>74</th>\n",
       "      <td>NEAR-USD_close</td>\n",
       "      <td>0.850475</td>\n",
       "    </tr>\n",
       "  </tbody>\n",
       "</table>\n",
       "</div>"
      ],
      "text/plain": [
       "               Ticker  correlation\n",
       "42      ETH-USD_close     0.964775\n",
       "7       ANT-USD_close     0.960374\n",
       "31    CUDOS-USD_close     0.952414\n",
       "47     FLUX-USD_close     0.951095\n",
       "98      SLP-USD_close     0.950451\n",
       "69      LTO-USD_close     0.950260\n",
       "112     VET-USD_close     0.949892\n",
       "91     RNDR-USD_close     0.945556\n",
       "115    VTHO-USD_close     0.935377\n",
       "81      OXT-USD_close     0.930125\n",
       "85     PROM-USD_close     0.925787\n",
       "43      FET-USD_close     0.922952\n",
       "113    VITE-USD_close     0.922792\n",
       "52     HBAR-USD_close     0.921506\n",
       "30     CTSI-USD_close     0.915435\n",
       "84    PORTO-USD_close     0.912828\n",
       "46     FLOW-USD_close     0.909473\n",
       "26      CHZ-USD_close     0.908374\n",
       "5    ALPINE-USD_close     0.905013\n",
       "76      NMR-USD_close     0.903562\n",
       "24     CELO-USD_close     0.902243\n",
       "114   VOXEL-USD_close     0.897789\n",
       "9      API3-USD_close     0.896877\n",
       "21      BNB-USD_close     0.896830\n",
       "104     SYS-USD_close     0.890616\n",
       "25     CELR-USD_close     0.889114\n",
       "0     1INCH-USD_close     0.884871\n",
       "77    OCEAN-USD_close     0.882098\n",
       "90      REQ-USD_close     0.877289\n",
       "17     BAND-USD_close     0.875228\n",
       "44      FIL-USD_close     0.870663\n",
       "95   SANTOS-USD_close     0.861731\n",
       "61    LAZIO-USD_close     0.861101\n",
       "41      ETC-USD_close     0.857537\n",
       "62      LDO-USD_close     0.853885\n",
       "74     NEAR-USD_close     0.850475"
      ]
     },
     "execution_count": 30,
     "metadata": {},
     "output_type": "execute_result"
    }
   ],
   "source": [
    "# Initialize an empty list to hold data for all tickers\n",
    "all_data_4 = []\n",
    "\n",
    "# Loop through each ticker symbol in the list\n",
    "for i in binanceUS_cryptoUSDT_pairs:\n",
    "    # Fetch the ticker data\n",
    "    ticker = yf.Ticker(i)\n",
    "    # Get historical market data, here max is used for demonstration; you can customize the period\n",
    "    data = ticker.history(start = '2023-10-23', end = datetime.now(), interval = '1wk') #period = '1w'\n",
    "    \n",
    "    # Add a column to identify the ticker (optional)\n",
    "    data['Ticker'] = i\n",
    "    \n",
    "    # Append this data to the list\n",
    "    all_data_4.append(data)\n",
    "\n",
    "# Convert the list of DataFrames into a single DataFrame\n",
    "binanceUS_df_4 = pd.concat(all_data_4)# Initialize an empty list to hold data for all tickers\n",
    "all_data_4 = []\n",
    "\n",
    "binanceUS_df_4 = binanceUS_df_4.reset_index()\n",
    "\n",
    "# Pivot the DataFrame to make each ticker's close prices its own column\n",
    "close_prices_df_4 = binanceUS_df_4.pivot(index='Date', columns='Ticker', values='Close')\n",
    "\n",
    "# Ensure the column names are correct after pivoting\n",
    "close_prices_df_4.columns = [f'{ticker}_close' for ticker in close_prices_df_4.columns]\n",
    "close_prices_df_4\n",
    "\n",
    "# Calculate the correlation of each cryptocurrency's close prices with BTC's close prices\n",
    "binanceUS_correlation_with_btc_4 = close_prices_df_4.corrwith(BTC_df['btc_close'])\n",
    "\n",
    "# The result will be a Series where each index is a 'ticker_close' and its value is the correlation with 'BTC_close'\n",
    "binanceUS_correlation_with_btc_4 = pd.DataFrame(binanceUS_correlation_with_btc_4)\n",
    "binanceUS_correlation_with_btc_4.columns = ['correlation']\n",
    "# Reset the index and rename the new column\n",
    "binanceUS_correlation_with_btc_4.reset_index(inplace=True)\n",
    "binanceUS_correlation_with_btc_4.rename(columns={'index': 'Ticker'}, inplace=True)\n",
    "\n",
    "binanceUS_correlation_with_btc_4.head()\n",
    "\n",
    "binanceUS_correlation_with_btc_4 = binanceUS_correlation_with_btc_4.sort_values(by='correlation', ascending=False)\n",
    "\n",
    "# Interactive bar chart\n",
    "fig = px.bar(binanceUS_correlation_with_btc_4, y='Ticker', x='correlation', \n",
    "             text='correlation', orientation='h', \n",
    "             color='correlation', color_continuous_scale='RdBu',\n",
    "             labels={'correlation': 'Correlation with BTC'})\n",
    "\n",
    "# Layout enhancements\n",
    "fig.update_layout(title='Correlation of Cryptocurrencies with BTC Close Prices',\n",
    "                  xaxis_title='Correlation with BTC Close Price',\n",
    "                  yaxis_title='Cryptocurrency',\n",
    "                  coloraxis_colorbar=dict(title=\"Correlation\"),\n",
    "                  template='plotly_white',\n",
    "                  width = 800,\n",
    "                  height = 2000)\n",
    "\n",
    "# Text on bars\n",
    "fig.update_traces(texttemplate='%{text:.2f}', textposition='outside')\n",
    "\n",
    "fig.show()\n",
    "\n",
    "# Initialize the list to hold highly correlated tickers\n",
    "highly_correlated_4 = []\n",
    "\n",
    "# Iterate through the DataFrame and check each correlation value\n",
    "for index, row in binanceUS_correlation_with_btc_4.iterrows():\n",
    "    # Check if the correlation is greater than 0.80\n",
    "    if row['correlation'] > 0.85:\n",
    "        # Add the ticker name to the list\n",
    "        highly_correlated_4.append(row[['Ticker', 'correlation']])\n",
    "\n",
    "# Display the list of highly correlated tickers\n",
    "highly_correlated_4 = pd.DataFrame(highly_correlated_4)\n",
    "highly_correlated_4"
   ]
  },
  {
   "cell_type": "code",
   "execution_count": 21,
   "metadata": {},
   "outputs": [],
   "source": [
    "# Set 'Ticker' as index for all correlation DataFrames\n",
    "binanceUS_correlation_with_btc.set_index('Ticker', inplace=True)\n",
    "binanceUS_correlation_with_btc_2.set_index('Ticker', inplace=True)\n",
    "binanceUS_correlation_with_btc_3.set_index('Ticker', inplace=True)\n",
    "binanceUS_correlation_with_btc_4.set_index('Ticker', inplace=True)\n",
    "# Combine the DataFrames\n",
    "combined_correlations = pd.concat([binanceUS_correlation_with_btc['correlation'], \n",
    "                                   binanceUS_correlation_with_btc_2['correlation'], \n",
    "                                   binanceUS_correlation_with_btc_3['correlation'], \n",
    "                                   binanceUS_correlation_with_btc_4['correlation']], axis=1)\n",
    "\n",
    "# Rename the columns\n",
    "combined_correlations.columns = ['Correlation_1', 'Correlation_2', 'Correlation_3', 'Correlation_4']"
   ]
  },
  {
   "cell_type": "code",
   "execution_count": 23,
   "metadata": {},
   "outputs": [
    {
     "data": {
      "text/html": [
       "<div>\n",
       "<style scoped>\n",
       "    .dataframe tbody tr th:only-of-type {\n",
       "        vertical-align: middle;\n",
       "    }\n",
       "\n",
       "    .dataframe tbody tr th {\n",
       "        vertical-align: top;\n",
       "    }\n",
       "\n",
       "    .dataframe thead th {\n",
       "        text-align: right;\n",
       "    }\n",
       "</style>\n",
       "<table border=\"1\" class=\"dataframe\">\n",
       "  <thead>\n",
       "    <tr style=\"text-align: right;\">\n",
       "      <th></th>\n",
       "      <th>Correlation_1</th>\n",
       "      <th>Correlation_2</th>\n",
       "      <th>Correlation_3</th>\n",
       "      <th>Correlation_4</th>\n",
       "    </tr>\n",
       "    <tr>\n",
       "      <th>Ticker</th>\n",
       "      <th></th>\n",
       "      <th></th>\n",
       "      <th></th>\n",
       "      <th></th>\n",
       "    </tr>\n",
       "  </thead>\n",
       "  <tbody>\n",
       "    <tr>\n",
       "      <th>ETH-USD_close</th>\n",
       "      <td>0.904285</td>\n",
       "      <td>0.906895</td>\n",
       "      <td>0.867648</td>\n",
       "      <td>0.964772</td>\n",
       "    </tr>\n",
       "    <tr>\n",
       "      <th>FET-USD_close</th>\n",
       "      <td>0.868378</td>\n",
       "      <td>0.901541</td>\n",
       "      <td>0.557931</td>\n",
       "      <td>0.923409</td>\n",
       "    </tr>\n",
       "    <tr>\n",
       "      <th>OCEAN-USD_close</th>\n",
       "      <td>0.852720</td>\n",
       "      <td>0.876218</td>\n",
       "      <td>0.702224</td>\n",
       "      <td>0.882091</td>\n",
       "    </tr>\n",
       "    <tr>\n",
       "      <th>MKR-USD_close</th>\n",
       "      <td>0.844445</td>\n",
       "      <td>0.874590</td>\n",
       "      <td>0.494393</td>\n",
       "      <td>0.769392</td>\n",
       "    </tr>\n",
       "    <tr>\n",
       "      <th>LINK-USD_close</th>\n",
       "      <td>0.837897</td>\n",
       "      <td>0.884417</td>\n",
       "      <td>0.288102</td>\n",
       "      <td>0.823590</td>\n",
       "    </tr>\n",
       "    <tr>\n",
       "      <th>...</th>\n",
       "      <td>...</td>\n",
       "      <td>...</td>\n",
       "      <td>...</td>\n",
       "      <td>...</td>\n",
       "    </tr>\n",
       "    <tr>\n",
       "      <th>GRT-USD_close</th>\n",
       "      <td>-0.244087</td>\n",
       "      <td>-0.244087</td>\n",
       "      <td>NaN</td>\n",
       "      <td>NaN</td>\n",
       "    </tr>\n",
       "    <tr>\n",
       "      <th>USDT-USD_close</th>\n",
       "      <td>-0.286838</td>\n",
       "      <td>-0.293888</td>\n",
       "      <td>0.090855</td>\n",
       "      <td>0.088135</td>\n",
       "    </tr>\n",
       "    <tr>\n",
       "      <th>SANTOS-USD_close</th>\n",
       "      <td>-0.363466</td>\n",
       "      <td>-0.558598</td>\n",
       "      <td>-0.550443</td>\n",
       "      <td>0.862441</td>\n",
       "    </tr>\n",
       "    <tr>\n",
       "      <th>COMP-USD_close</th>\n",
       "      <td>-0.837779</td>\n",
       "      <td>-0.837779</td>\n",
       "      <td>NaN</td>\n",
       "      <td>NaN</td>\n",
       "    </tr>\n",
       "    <tr>\n",
       "      <th>STG-USD_close</th>\n",
       "      <td>NaN</td>\n",
       "      <td>NaN</td>\n",
       "      <td>NaN</td>\n",
       "      <td>NaN</td>\n",
       "    </tr>\n",
       "  </tbody>\n",
       "</table>\n",
       "<p>132 rows × 4 columns</p>\n",
       "</div>"
      ],
      "text/plain": [
       "                  Correlation_1  Correlation_2  Correlation_3  Correlation_4\n",
       "Ticker                                                                      \n",
       "ETH-USD_close          0.904285       0.906895       0.867648       0.964772\n",
       "FET-USD_close          0.868378       0.901541       0.557931       0.923409\n",
       "OCEAN-USD_close        0.852720       0.876218       0.702224       0.882091\n",
       "MKR-USD_close          0.844445       0.874590       0.494393       0.769392\n",
       "LINK-USD_close         0.837897       0.884417       0.288102       0.823590\n",
       "...                         ...            ...            ...            ...\n",
       "GRT-USD_close         -0.244087      -0.244087            NaN            NaN\n",
       "USDT-USD_close        -0.286838      -0.293888       0.090855       0.088135\n",
       "SANTOS-USD_close      -0.363466      -0.558598      -0.550443       0.862441\n",
       "COMP-USD_close        -0.837779      -0.837779            NaN            NaN\n",
       "STG-USD_close               NaN            NaN            NaN            NaN\n",
       "\n",
       "[132 rows x 4 columns]"
      ]
     },
     "execution_count": 23,
     "metadata": {},
     "output_type": "execute_result"
    }
   ],
   "source": [
    "combined_correlations\n"
   ]
  },
  {
   "cell_type": "code",
   "execution_count": 32,
   "metadata": {},
   "outputs": [
    {
     "name": "stdout",
     "output_type": "stream",
     "text": [
      "Tickers with an average correlation of 0.80 or better:\n",
      "Ticker\n",
      "ETH-USD_close      0.910900\n",
      "FET-USD_close      0.812815\n",
      "OCEAN-USD_close    0.828313\n",
      "ANT-USD_close      0.806262\n",
      "dtype: float64\n"
     ]
    }
   ],
   "source": [
    "# Calculate the average correlation for each Ticker\n",
    "average_correlations = combined_correlations.mean(axis=1)\n",
    "\n",
    "# Find Tickers with an average correlation of 0.85 or better\n",
    "averaged_high_correlation_tickers = average_correlations[average_correlations >= 0.80]\n",
    "\n",
    "# Print the Tickers\n",
    "print(\"Tickers with an average correlation of 0.80 or better:\")\n",
    "print(averaged_high_correlation_tickers)\n"
   ]
  },
  {
   "cell_type": "markdown",
   "metadata": {},
   "source": [
    "### Run all the correlations of the different cycles through ML"
   ]
  },
  {
   "cell_type": "code",
   "execution_count": null,
   "metadata": {},
   "outputs": [],
   "source": []
  }
 ],
 "metadata": {
  "kernelspec": {
   "display_name": "Python 3",
   "language": "python",
   "name": "python3"
  },
  "language_info": {
   "codemirror_mode": {
    "name": "ipython",
    "version": 3
   },
   "file_extension": ".py",
   "mimetype": "text/x-python",
   "name": "python",
   "nbconvert_exporter": "python",
   "pygments_lexer": "ipython3",
   "version": "3.9.13"
  }
 },
 "nbformat": 4,
 "nbformat_minor": 2
}
